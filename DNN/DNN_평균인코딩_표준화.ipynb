{
 "cells": [
  {
   "cell_type": "code",
   "execution_count": 1,
   "metadata": {},
   "outputs": [],
   "source": [
    "import numpy as np \n",
    "import pandas as pd\n",
    "import os\n",
    "import scipy.stats as ss\n",
    "import matplotlib.pyplot as plt\n",
    "# import tensorflow as tf\n",
    "import sklearn\n",
    "from sklearn.preprocessing import StandardScaler\n",
    "from sklearn.model_selection import train_test_split\n",
    "from sklearn.tree import DecisionTreeRegressor\n",
    "from sklearn.metrics import mean_squared_error\n",
    "from sklearn.model_selection import GridSearchCV\n",
    "from xgboost import XGBRegressor,plot_importance\n",
    "from scipy.stats import f_oneway\n",
    "import pandas as pd"
   ]
  },
  {
   "cell_type": "code",
   "execution_count": 2,
   "metadata": {},
   "outputs": [],
   "source": [
    "import tensorflow as tf\n",
    "gpus = tf.config.experimental.list_physical_devices('GPU')\n",
    "if gpus:\n",
    "  # 텐서플로가 첫 번째 GPU에 1GB 메모리만 할당하도록 제한\n",
    "  try:\n",
    "    tf.config.experimental.set_virtual_device_configuration(\n",
    "        gpus[0],\n",
    "        [tf.config.experimental.VirtualDeviceConfiguration(memory_limit=1024)])\n",
    "  except RuntimeError as e:\n",
    "    # 프로그램 시작시에 가상 장치가 설정되어야만 합니다\n",
    "    print(e)"
   ]
  },
  {
   "cell_type": "markdown",
   "metadata": {},
   "source": [
    "# 평균인코딩"
   ]
  },
  {
   "cell_type": "markdown",
   "metadata": {},
   "source": [
    "### 데이터 전처리"
   ]
  },
  {
   "cell_type": "code",
   "execution_count": 3,
   "metadata": {},
   "outputs": [
    {
     "name": "stderr",
     "output_type": "stream",
     "text": [
      "C:\\Users\\PC\\anaconda3\\lib\\site-packages\\IPython\\core\\interactiveshell.py:3146: DtypeWarning: Columns (7) have mixed types.Specify dtype option on import or set low_memory=False.\n",
      "  has_raised = await self.run_ast_nodes(code_ast.body, cell_name,\n"
     ]
    }
   ],
   "source": [
    "past_sales = pd.read_csv('C:/Users/PC/표/수요예측/rossmann-store-sales/train.csv')\n",
    "store = pd.read_csv('C:/Users/PC/표/수요예측/rossmann-store-sales/store.csv')\n",
    "\n",
    "past_sales['Date'] = pd.to_datetime(past_sales['Date'], format=\"%Y-%m-%d\") # 년도, 달, 일 순으로 format\n",
    "# a = 공휴일, b = 부활절 공휴일, c = 크리스마스, d = 없음\n",
    "past_sales['StateHoliday'] = past_sales['StateHoliday'].replace({0:'d'}) # 0 값은 d로 대체\n",
    "past_sales['StateHoliday'] = past_sales['StateHoliday'].replace({'0':'d'})# 0 값은 d로 대체\n",
    "past_sales = past_sales.sort_values('Date') # date 기준으로 정렬\n",
    "# past_sales = pd.get_dummies(data = past_sales,columns=['StateHoliday']) # StateHoliday를 더미 가변수로 대체, 결측값 없다는 거 확인 완료\n",
    "\n",
    "store = store.drop(['CompetitionOpenSinceMonth', 'CompetitionOpenSinceYear', 'Promo2SinceWeek', 'Promo2SinceYear', 'PromoInterval'], axis=1)\n",
    "# store = pd.get_dummies(data = store, columns = ['Assortment']) # 규모를 더미 가변수로 대체, storetype = a에는 규모가 b인 상점은 없음\n",
    "\n",
    "# 결측값 확인 : past_sales.isnull().sum(), store_a.isnull().sum()\n",
    "# store의 CompetitionDistance에 3개 있음\n",
    "# 결측값 : 평균으로 대체\n",
    "store['CompetitionDistance'] = store['CompetitionDistance'].fillna(store['CompetitionDistance'].mean())\n",
    "\n",
    "# 병합\n",
    "data = pd.merge(left = past_sales,right = store, on = 'Store', how = 'right')\n",
    "# data = pd.get_dummies(data = data, columns = ['DayOfWeek']) # 요일 더미의 가변수로 추가\n",
    "# data = pd.get_dummies(data = data, columns = ['StoreType'])\n",
    "data['Month']=pd.DatetimeIndex(data.Date).month\n",
    "data['Day']=pd.DatetimeIndex(data.Date).day\n",
    "data = data.drop(['Date'],axis=1) # 그래프 그릴려고 잠시 제거한 코드\n",
    "\n",
    "pd.options.display.max_columns = None"
   ]
  },
  {
   "cell_type": "code",
   "execution_count": 4,
   "metadata": {},
   "outputs": [],
   "source": [
    "StoreType_mean = data.groupby(\"StoreType\")[\"Sales\"].mean()\n",
    "data.loc[data['StoreType'] == 'a', 'StoreType'] = StoreType_mean[0]\n",
    "data.loc[data['StoreType'] == 'b', 'StoreType'] = StoreType_mean[1]\n",
    "data.loc[data['StoreType'] == 'c', 'StoreType'] = StoreType_mean[2]\n",
    "data.loc[data['StoreType'] == 'd', 'StoreType'] = StoreType_mean[3]\n",
    "\n",
    "StateHoliday_mean = data.groupby(\"StateHoliday\")[\"Sales\"].mean()\n",
    "data.loc[data['StateHoliday'] == 'a', 'StateHoliday'] = StateHoliday_mean[0]\n",
    "data.loc[data['StateHoliday'] == 'b', 'StateHoliday'] = StateHoliday_mean[1]\n",
    "data.loc[data['StateHoliday'] == 'c', 'StateHoliday'] = StateHoliday_mean[2]\n",
    "data.loc[data['StateHoliday'] == 'd', 'StateHoliday'] = StateHoliday_mean[3]\n",
    "\n",
    "Assortment_mean = data.groupby(\"Assortment\")[\"Sales\"].mean()\n",
    "data.loc[data['Assortment'] == 'a', 'Assortment'] = Assortment_mean[0]\n",
    "data.loc[data['Assortment'] == 'b', 'Assortment'] = Assortment_mean[1]\n",
    "data.loc[data['Assortment'] == 'c', 'Assortment'] = Assortment_mean[2]"
   ]
  },
  {
   "cell_type": "code",
   "execution_count": 5,
   "metadata": {},
   "outputs": [],
   "source": [
    "scaler = StandardScaler().fit(data)\n",
    "data = pd.DataFrame(scaler.transform(data),index = data.index, columns = data.columns)"
   ]
  },
  {
   "cell_type": "code",
   "execution_count": 6,
   "metadata": {},
   "outputs": [],
   "source": [
    "target_col = 'Sales'\n",
    "features_cols = data.columns.drop(target_col)        \n",
    "features = data[features_cols]\n",
    "target = data[target_col]\n",
    "target = pd.DataFrame(target.values.reshape(-1,1))\n",
    "features = features.values\n",
    "target = target.values\n",
    "x_train, x_test, y_train, y_test = train_test_split(features, target, test_size=0.2, random_state=34)\n",
    "x_test,x_valid,y_test,y_valid = train_test_split(x_test, y_test, test_size=0.5)"
   ]
  },
  {
   "cell_type": "code",
   "execution_count": 7,
   "metadata": {},
   "outputs": [],
   "source": [
    "x_train = x_train.astype(np.float32)\n",
    "x_test = x_test.astype(np.float32)\n",
    "x_valid = x_valid.astype(np.float32)\n",
    "y_train = y_train.astype(np.float32)\n",
    "y_test = y_test.astype(np.float32)\n",
    "y_valid = y_valid.astype(np.float32)"
   ]
  },
  {
   "cell_type": "code",
   "execution_count": 8,
   "metadata": {
    "scrolled": true
   },
   "outputs": [
    {
     "name": "stdout",
     "output_type": "stream",
     "text": [
      "train_data의 row : 813767, column : 13\n",
      "test_data의 row : 101721, column : 13\n",
      "val_data의 row : 101721, column : 13\n"
     ]
    }
   ],
   "source": [
    "print('train_data의 row : %s, column : %s'%(x_train.shape[0],x_train.shape[1]))\n",
    "print('test_data의 row : %s, column : %s'%(x_test.shape[0],x_test.shape[1]))\n",
    "print('val_data의 row : %s, column : %s'%(x_valid.shape[0],x_valid.shape[1]))"
   ]
  },
  {
   "cell_type": "markdown",
   "metadata": {},
   "source": [
    "### 학습"
   ]
  },
  {
   "cell_type": "code",
   "execution_count": 9,
   "metadata": {
    "scrolled": false
   },
   "outputs": [
    {
     "name": "stdout",
     "output_type": "stream",
     "text": [
      "Model: \"sequential\"\n",
      "_________________________________________________________________\n",
      "Layer (type)                 Output Shape              Param #   \n",
      "=================================================================\n",
      "dense (Dense)                (None, 256)               3584      \n",
      "_________________________________________________________________\n",
      "dropout (Dropout)            (None, 256)               0         \n",
      "_________________________________________________________________\n",
      "batch_normalization (BatchNo (None, 256)               1024      \n",
      "_________________________________________________________________\n",
      "dense_1 (Dense)              (None, 256)               65792     \n",
      "_________________________________________________________________\n",
      "dropout_1 (Dropout)          (None, 256)               0         \n",
      "_________________________________________________________________\n",
      "batch_normalization_1 (Batch (None, 256)               1024      \n",
      "_________________________________________________________________\n",
      "dense_2 (Dense)              (None, 256)               65792     \n",
      "_________________________________________________________________\n",
      "dropout_2 (Dropout)          (None, 256)               0         \n",
      "_________________________________________________________________\n",
      "batch_normalization_2 (Batch (None, 256)               1024      \n",
      "_________________________________________________________________\n",
      "dense_3 (Dense)              (None, 128)               32896     \n",
      "_________________________________________________________________\n",
      "dropout_3 (Dropout)          (None, 128)               0         \n",
      "_________________________________________________________________\n",
      "batch_normalization_3 (Batch (None, 128)               512       \n",
      "_________________________________________________________________\n",
      "dense_4 (Dense)              (None, 1)                 129       \n",
      "=================================================================\n",
      "Total params: 171,777\n",
      "Trainable params: 169,985\n",
      "Non-trainable params: 1,792\n",
      "_________________________________________________________________\n"
     ]
    }
   ],
   "source": [
    "model = tf.keras.Sequential()\n",
    "model.add(tf.keras.layers.Dense(256,input_dim = x_train.shape[1],activation='relu'))\n",
    "model.add(tf.keras.layers.Dropout(0.2))\n",
    "model.add(tf.keras.layers.BatchNormalization())\n",
    "\n",
    "model.add(tf.keras.layers.Dense(256,activation = 'relu'))\n",
    "model.add(tf.keras.layers.Dropout(0.2))\n",
    "model.add(tf.keras.layers.BatchNormalization())\n",
    "\n",
    "model.add(tf.keras.layers.Dense(256,activation = 'relu'))\n",
    "model.add(tf.keras.layers.Dropout(0.2))\n",
    "model.add(tf.keras.layers.BatchNormalization())\n",
    "\n",
    "model.add(tf.keras.layers.Dense(128,activation = 'relu'))\n",
    "model.add(tf.keras.layers.Dropout(0.2))\n",
    "model.add(tf.keras.layers.BatchNormalization())\n",
    "\n",
    "model.add(tf.keras.layers.Dense(1))\n",
    "\n",
    "model.compile(optimizer='adam',\n",
    "             loss='mse',\n",
    "             metrics=['mean_absolute_error'])\n",
    "\n",
    "model_path = 'C:/project/rossmann-store-sales'\n",
    "checkpoint = tf.keras.callbacks.ModelCheckpoint(filepath=model_path , monitor='val_mean_absolute_error', verbose=1, save_best_only=True)\n",
    "# early_stopping = EarlyStopping(monitor='val_loss', patience=6)\n",
    "\n",
    "model.summary()"
   ]
  },
  {
   "cell_type": "code",
   "execution_count": 10,
   "metadata": {},
   "outputs": [],
   "source": [
    "import datetime"
   ]
  },
  {
   "cell_type": "code",
   "execution_count": 11,
   "metadata": {
    "scrolled": false
   },
   "outputs": [
    {
     "name": "stdout",
     "output_type": "stream",
     "text": [
      "Epoch 1/50\n",
      "12714/12716 [============================>.] - ETA: 0s - loss: 0.1287 - mean_absolute_error: 0.2550\n",
      "Epoch 00001: val_mean_absolute_error improved from inf to 0.17507, saving model to C:/project\\rossmann-store-sales\n",
      "WARNING:tensorflow:From C:\\Users\\PC\\anaconda3\\lib\\site-packages\\tensorflow\\python\\training\\tracking\\tracking.py:111: Model.state_updates (from tensorflow.python.keras.engine.training) is deprecated and will be removed in a future version.\n",
      "Instructions for updating:\n",
      "This property should not be used in TensorFlow 2.0, as updates are applied automatically.\n",
      "WARNING:tensorflow:From C:\\Users\\PC\\anaconda3\\lib\\site-packages\\tensorflow\\python\\training\\tracking\\tracking.py:111: Layer.updates (from tensorflow.python.keras.engine.base_layer) is deprecated and will be removed in a future version.\n",
      "Instructions for updating:\n",
      "This property should not be used in TensorFlow 2.0, as updates are applied automatically.\n",
      "INFO:tensorflow:Assets written to: C:/project\\rossmann-store-sales\\assets\n",
      "12716/12716 [==============================] - 103s 8ms/step - loss: 0.1288 - mean_absolute_error: 0.2550 - val_loss: 0.0748 - val_mean_absolute_error: 0.1751\n",
      "Epoch 2/50\n",
      "12712/12716 [============================>.] - ETA: 0s - loss: 0.0934 - mean_absolute_error: 0.2242\n",
      "Epoch 00002: val_mean_absolute_error did not improve from 0.17507\n",
      "12716/12716 [==============================] - 117s 9ms/step - loss: 0.0935 - mean_absolute_error: 0.2242 - val_loss: 0.0801 - val_mean_absolute_error: 0.2067\n",
      "Epoch 3/50\n",
      "12713/12716 [============================>.] - ETA: 0s - loss: 0.0874 - mean_absolute_error: 0.2176- ETA: 0s - loss: 0.0875 - mean_absolute_error\n",
      "Epoch 00003: val_mean_absolute_error improved from 0.17507 to 0.17109, saving model to C:/project\\rossmann-store-sales\n",
      "INFO:tensorflow:Assets written to: C:/project\\rossmann-store-sales\\assets\n",
      "12716/12716 [==============================] - 124s 10ms/step - loss: 0.0874 - mean_absolute_error: 0.2176 - val_loss: 0.0723 - val_mean_absolute_error: 0.1711\n",
      "Epoch 4/50\n",
      "12711/12716 [============================>.] - ETA: 0s - loss: 0.0839 - mean_absolute_error: 0.2142\n",
      "Epoch 00004: val_mean_absolute_error improved from 0.17109 to 0.16637, saving model to C:/project\\rossmann-store-sales\n",
      "INFO:tensorflow:Assets written to: C:/project\\rossmann-store-sales\\assets\n",
      "12716/12716 [==============================] - 128s 10ms/step - loss: 0.0839 - mean_absolute_error: 0.2142 - val_loss: 0.0721 - val_mean_absolute_error: 0.1664\n",
      "Epoch 5/50\n",
      "12716/12716 [==============================] - ETA: 0s - loss: 0.0814 - mean_absolute_error: 0.2109\n",
      "Epoch 00005: val_mean_absolute_error improved from 0.16637 to 0.15865, saving model to C:/project\\rossmann-store-sales\n",
      "INFO:tensorflow:Assets written to: C:/project\\rossmann-store-sales\\assets\n",
      "12716/12716 [==============================] - 127s 10ms/step - loss: 0.0814 - mean_absolute_error: 0.2109 - val_loss: 0.0724 - val_mean_absolute_error: 0.1586\n",
      "Epoch 6/50\n",
      "12712/12716 [============================>.] - ETA: 0s - loss: 0.0795 - mean_absolute_error: 0.2090\n",
      "Epoch 00006: val_mean_absolute_error did not improve from 0.15865\n",
      "12716/12716 [==============================] - 119s 9ms/step - loss: 0.0795 - mean_absolute_error: 0.2090 - val_loss: 0.0702 - val_mean_absolute_error: 0.1744\n",
      "Epoch 7/50\n",
      "12716/12716 [==============================] - ETA: 0s - loss: 0.0782 - mean_absolute_error: 0.2075\n",
      "Epoch 00007: val_mean_absolute_error did not improve from 0.15865\n",
      "12716/12716 [==============================] - 123s 10ms/step - loss: 0.0782 - mean_absolute_error: 0.2075 - val_loss: 0.1273 - val_mean_absolute_error: 0.1680\n",
      "Epoch 8/50\n",
      "12716/12716 [==============================] - ETA: 0s - loss: 0.0767 - mean_absolute_error: 0.2056\n",
      "Epoch 00008: val_mean_absolute_error did not improve from 0.15865\n",
      "12716/12716 [==============================] - 120s 9ms/step - loss: 0.0767 - mean_absolute_error: 0.2056 - val_loss: 0.1499 - val_mean_absolute_error: 0.1611\n",
      "Epoch 9/50\n",
      "12712/12716 [============================>.] - ETA: 0s - loss: 0.0759 - mean_absolute_error: 0.2049\n",
      "Epoch 00009: val_mean_absolute_error improved from 0.15865 to 0.15185, saving model to C:/project\\rossmann-store-sales\n",
      "INFO:tensorflow:Assets written to: C:/project\\rossmann-store-sales\\assets\n",
      "12716/12716 [==============================] - 124s 10ms/step - loss: 0.0759 - mean_absolute_error: 0.2049 - val_loss: 0.0578 - val_mean_absolute_error: 0.1518\n",
      "Epoch 10/50\n",
      "12712/12716 [============================>.] - ETA: 0s - loss: 0.0745 - mean_absolute_error: 0.2030\n",
      "Epoch 00010: val_mean_absolute_error did not improve from 0.15185\n",
      "12716/12716 [==============================] - 126s 10ms/step - loss: 0.0746 - mean_absolute_error: 0.2030 - val_loss: 0.0590 - val_mean_absolute_error: 0.1659\n",
      "Epoch 11/50\n",
      "12714/12716 [============================>.] - ETA: 0s - loss: 0.0735 - mean_absolute_error: 0.2017\n",
      "Epoch 00011: val_mean_absolute_error improved from 0.15185 to 0.15074, saving model to C:/project\\rossmann-store-sales\n",
      "INFO:tensorflow:Assets written to: C:/project\\rossmann-store-sales\\assets\n",
      "12716/12716 [==============================] - 129s 10ms/step - loss: 0.0735 - mean_absolute_error: 0.2017 - val_loss: 0.0727 - val_mean_absolute_error: 0.1507\n",
      "Epoch 12/50\n",
      "12715/12716 [============================>.] - ETA: 0s - loss: 0.0732 - mean_absolute_error: 0.2013\n",
      "Epoch 00012: val_mean_absolute_error improved from 0.15074 to 0.14407, saving model to C:/project\\rossmann-store-sales\n",
      "INFO:tensorflow:Assets written to: C:/project\\rossmann-store-sales\\assets\n",
      "12716/12716 [==============================] - 125s 10ms/step - loss: 0.0732 - mean_absolute_error: 0.2013 - val_loss: 0.0854 - val_mean_absolute_error: 0.1441\n",
      "Epoch 13/50\n",
      "12715/12716 [============================>.] - ETA: 0s - loss: 0.0726 - mean_absolute_error: 0.2006\n",
      "Epoch 00013: val_mean_absolute_error improved from 0.14407 to 0.14102, saving model to C:/project\\rossmann-store-sales\n",
      "INFO:tensorflow:Assets written to: C:/project\\rossmann-store-sales\\assets\n",
      "12716/12716 [==============================] - 127s 10ms/step - loss: 0.0726 - mean_absolute_error: 0.2006 - val_loss: 0.0714 - val_mean_absolute_error: 0.1410\n",
      "Epoch 14/50\n",
      "12715/12716 [============================>.] - ETA: 0s - loss: 0.0720 - mean_absolute_error: 0.1998\n",
      "Epoch 00014: val_mean_absolute_error did not improve from 0.14102\n",
      "12716/12716 [==============================] - 102s 8ms/step - loss: 0.0720 - mean_absolute_error: 0.1998 - val_loss: 0.0568 - val_mean_absolute_error: 0.1556\n",
      "Epoch 15/50\n",
      "12714/12716 [============================>.] - ETA: 0s - loss: 0.0711 - mean_absolute_error: 0.1984\n",
      "Epoch 00015: val_mean_absolute_error did not improve from 0.14102\n",
      "12716/12716 [==============================] - 100s 8ms/step - loss: 0.0711 - mean_absolute_error: 0.1984 - val_loss: 0.0848 - val_mean_absolute_error: 0.1488\n",
      "Epoch 16/50\n",
      "12713/12716 [============================>.] - ETA: 0s - loss: 0.0705 - mean_absolute_error: 0.1978\n",
      "Epoch 00016: val_mean_absolute_error did not improve from 0.14102\n",
      "12716/12716 [==============================] - 128s 10ms/step - loss: 0.0705 - mean_absolute_error: 0.1978 - val_loss: 0.0539 - val_mean_absolute_error: 0.1473\n",
      "Epoch 17/50\n",
      "12714/12716 [============================>.] - ETA: 0s - loss: 0.0705 - mean_absolute_error: 0.1978\n",
      "Epoch 00017: val_mean_absolute_error improved from 0.14102 to 0.13535, saving model to C:/project\\rossmann-store-sales\n",
      "INFO:tensorflow:Assets written to: C:/project\\rossmann-store-sales\\assets\n",
      "12716/12716 [==============================] - 127s 10ms/step - loss: 0.0705 - mean_absolute_error: 0.1978 - val_loss: 0.0480 - val_mean_absolute_error: 0.1354\n",
      "Epoch 18/50\n",
      "12714/12716 [============================>.] - ETA: 0s - loss: 0.0700 - mean_absolute_error: 0.1970\n",
      "Epoch 00018: val_mean_absolute_error did not improve from 0.13535\n",
      "12716/12716 [==============================] - 131s 10ms/step - loss: 0.0700 - mean_absolute_error: 0.1970 - val_loss: 0.0574 - val_mean_absolute_error: 0.1529\n",
      "Epoch 19/50\n",
      "12714/12716 [============================>.] - ETA: 0s - loss: 0.0692 - mean_absolute_error: 0.1961\n",
      "Epoch 00019: val_mean_absolute_error did not improve from 0.13535\n",
      "12716/12716 [==============================] - 129s 10ms/step - loss: 0.0692 - mean_absolute_error: 0.1961 - val_loss: 0.0792 - val_mean_absolute_error: 0.1361\n"
     ]
    },
    {
     "name": "stdout",
     "output_type": "stream",
     "text": [
      "Epoch 20/50\n",
      "12713/12716 [============================>.] - ETA: 0s - loss: 0.0689 - mean_absolute_error: 0.1955\n",
      "Epoch 00020: val_mean_absolute_error improved from 0.13535 to 0.13351, saving model to C:/project\\rossmann-store-sales\n",
      "INFO:tensorflow:Assets written to: C:/project\\rossmann-store-sales\\assets\n",
      "12716/12716 [==============================] - 138s 11ms/step - loss: 0.0689 - mean_absolute_error: 0.1955 - val_loss: 0.0744 - val_mean_absolute_error: 0.1335\n",
      "Epoch 21/50\n",
      "12713/12716 [============================>.] - ETA: 0s - loss: 0.0689 - mean_absolute_error: 0.1956\n",
      "Epoch 00021: val_mean_absolute_error did not improve from 0.13351\n",
      "12716/12716 [==============================] - 94s 7ms/step - loss: 0.0689 - mean_absolute_error: 0.1956 - val_loss: 0.0481 - val_mean_absolute_error: 0.1447\n",
      "Epoch 22/50\n",
      "12712/12716 [============================>.] - ETA: 0s - loss: 0.0687 - mean_absolute_error: 0.1954\n",
      "Epoch 00022: val_mean_absolute_error improved from 0.13351 to 0.12708, saving model to C:/project\\rossmann-store-sales\n",
      "INFO:tensorflow:Assets written to: C:/project\\rossmann-store-sales\\assets\n",
      "12716/12716 [==============================] - 99s 8ms/step - loss: 0.0687 - mean_absolute_error: 0.1954 - val_loss: 0.0499 - val_mean_absolute_error: 0.1271\n",
      "Epoch 23/50\n",
      "12716/12716 [==============================] - ETA: 0s - loss: 0.0678 - mean_absolute_error: 0.1940\n",
      "Epoch 00023: val_mean_absolute_error did not improve from 0.12708\n",
      "12716/12716 [==============================] - 94s 7ms/step - loss: 0.0678 - mean_absolute_error: 0.1940 - val_loss: 0.0592 - val_mean_absolute_error: 0.1582\n",
      "Epoch 24/50\n",
      "12714/12716 [============================>.] - ETA: 0s - loss: 0.0681 - mean_absolute_error: 0.1946\n",
      "Epoch 00024: val_mean_absolute_error did not improve from 0.12708\n",
      "12716/12716 [==============================] - 95s 8ms/step - loss: 0.0681 - mean_absolute_error: 0.1946 - val_loss: 0.0535 - val_mean_absolute_error: 0.1408\n",
      "Epoch 25/50\n",
      "12710/12716 [============================>.] - ETA: 0s - loss: 0.0670 - mean_absolute_error: 0.1930\n",
      "Epoch 00025: val_mean_absolute_error did not improve from 0.12708\n",
      "12716/12716 [==============================] - 93s 7ms/step - loss: 0.0670 - mean_absolute_error: 0.1930 - val_loss: 0.0590 - val_mean_absolute_error: 0.1532\n",
      "Epoch 26/50\n",
      "12714/12716 [============================>.] - ETA: 0s - loss: 0.0672 - mean_absolute_error: 0.1929\n",
      "Epoch 00026: val_mean_absolute_error did not improve from 0.12708\n",
      "12716/12716 [==============================] - 94s 7ms/step - loss: 0.0672 - mean_absolute_error: 0.1929 - val_loss: 0.0535 - val_mean_absolute_error: 0.1379\n",
      "Epoch 27/50\n",
      "12714/12716 [============================>.] - ETA: 0s - loss: 0.0672 - mean_absolute_error: 0.1934\n",
      "Epoch 00027: val_mean_absolute_error did not improve from 0.12708\n",
      "12716/12716 [==============================] - 93s 7ms/step - loss: 0.0672 - mean_absolute_error: 0.1934 - val_loss: 0.0632 - val_mean_absolute_error: 0.1356\n",
      "Epoch 28/50\n",
      "12714/12716 [============================>.] - ETA: 0s - loss: 0.0666 - mean_absolute_error: 0.1923\n",
      "Epoch 00028: val_mean_absolute_error did not improve from 0.12708\n",
      "12716/12716 [==============================] - 92s 7ms/step - loss: 0.0666 - mean_absolute_error: 0.1923 - val_loss: 0.0476 - val_mean_absolute_error: 0.1406\n",
      "Epoch 29/50\n",
      "12709/12716 [============================>.] - ETA: 0s - loss: 0.0658 - mean_absolute_error: 0.1913\n",
      "Epoch 00029: val_mean_absolute_error did not improve from 0.12708\n",
      "12716/12716 [==============================] - 94s 7ms/step - loss: 0.0658 - mean_absolute_error: 0.1913 - val_loss: 0.0565 - val_mean_absolute_error: 0.1541\n",
      "Epoch 30/50\n",
      "12713/12716 [============================>.] - ETA: 0s - loss: 0.0657 - mean_absolute_error: 0.1907\n",
      "Epoch 00030: val_mean_absolute_error did not improve from 0.12708\n",
      "12716/12716 [==============================] - 92s 7ms/step - loss: 0.0657 - mean_absolute_error: 0.1907 - val_loss: 0.0654 - val_mean_absolute_error: 0.1368\n",
      "Epoch 31/50\n",
      "12715/12716 [============================>.] - ETA: 0s - loss: 0.0656 - mean_absolute_error: 0.1910\n",
      "Epoch 00031: val_mean_absolute_error did not improve from 0.12708\n",
      "12716/12716 [==============================] - 92s 7ms/step - loss: 0.0656 - mean_absolute_error: 0.1910 - val_loss: 0.0572 - val_mean_absolute_error: 0.1302\n",
      "Epoch 32/50\n",
      "12709/12716 [============================>.] - ETA: 0s - loss: 0.0656 - mean_absolute_error: 0.1910\n",
      "Epoch 00032: val_mean_absolute_error did not improve from 0.12708\n",
      "12716/12716 [==============================] - 93s 7ms/step - loss: 0.0656 - mean_absolute_error: 0.1910 - val_loss: 0.0717 - val_mean_absolute_error: 0.1354\n",
      "Epoch 33/50\n",
      "12710/12716 [============================>.] - ETA: 0s - loss: 0.0660 - mean_absolute_error: 0.1916\n",
      "Epoch 00033: val_mean_absolute_error did not improve from 0.12708\n",
      "12716/12716 [==============================] - 92s 7ms/step - loss: 0.0660 - mean_absolute_error: 0.1916 - val_loss: 0.0690 - val_mean_absolute_error: 0.1380\n",
      "Epoch 34/50\n",
      "12710/12716 [============================>.] - ETA: 0s - loss: 0.0656 - mean_absolute_error: 0.1909\n",
      "Epoch 00034: val_mean_absolute_error did not improve from 0.12708\n",
      "12716/12716 [==============================] - 92s 7ms/step - loss: 0.0656 - mean_absolute_error: 0.1909 - val_loss: 0.0677 - val_mean_absolute_error: 0.1313\n",
      "Epoch 35/50\n",
      "12715/12716 [============================>.] - ETA: 0s - loss: 0.0652 - mean_absolute_error: 0.1905\n",
      "Epoch 00035: val_mean_absolute_error did not improve from 0.12708\n",
      "12716/12716 [==============================] - 91s 7ms/step - loss: 0.0652 - mean_absolute_error: 0.1905 - val_loss: 0.0835 - val_mean_absolute_error: 0.1469\n",
      "Epoch 36/50\n",
      "12710/12716 [============================>.] - ETA: 0s - loss: 0.0651 - mean_absolute_error: 0.1905\n",
      "Epoch 00036: val_mean_absolute_error did not improve from 0.12708\n",
      "12716/12716 [==============================] - 92s 7ms/step - loss: 0.0651 - mean_absolute_error: 0.1905 - val_loss: 0.0613 - val_mean_absolute_error: 0.1379\n",
      "Epoch 37/50\n",
      "12713/12716 [============================>.] - ETA: 0s - loss: 0.0651 - mean_absolute_error: 0.1904\n",
      "Epoch 00037: val_mean_absolute_error did not improve from 0.12708\n",
      "12716/12716 [==============================] - 92s 7ms/step - loss: 0.0651 - mean_absolute_error: 0.1904 - val_loss: 0.0866 - val_mean_absolute_error: 0.1289\n",
      "Epoch 38/50\n",
      "12709/12716 [============================>.] - ETA: 0s - loss: 0.0647 - mean_absolute_error: 0.1896\n",
      "Epoch 00038: val_mean_absolute_error did not improve from 0.12708\n",
      "12716/12716 [==============================] - 90s 7ms/step - loss: 0.0646 - mean_absolute_error: 0.1896 - val_loss: 0.1016 - val_mean_absolute_error: 0.1334\n",
      "Epoch 39/50\n",
      "12709/12716 [============================>.] - ETA: 0s - loss: 0.0647 - mean_absolute_error: 0.1898\n",
      "Epoch 00039: val_mean_absolute_error did not improve from 0.12708\n",
      "12716/12716 [==============================] - 95s 7ms/step - loss: 0.0647 - mean_absolute_error: 0.1898 - val_loss: 0.1082 - val_mean_absolute_error: 0.1343\n",
      "Epoch 40/50\n",
      "12715/12716 [============================>.] - ETA: 0s - loss: 0.0643 - mean_absolute_error: 0.1893\n",
      "Epoch 00040: val_mean_absolute_error did not improve from 0.12708\n",
      "12716/12716 [==============================] - 93s 7ms/step - loss: 0.0643 - mean_absolute_error: 0.1893 - val_loss: 0.0723 - val_mean_absolute_error: 0.1296\n",
      "Epoch 41/50\n",
      "12710/12716 [============================>.] - ETA: 0s - loss: 0.0642 - mean_absolute_error: 0.1894\n",
      "Epoch 00041: val_mean_absolute_error improved from 0.12708 to 0.12332, saving model to C:/project\\rossmann-store-sales\n",
      "INFO:tensorflow:Assets written to: C:/project\\rossmann-store-sales\\assets\n",
      "12716/12716 [==============================] - 94s 7ms/step - loss: 0.0643 - mean_absolute_error: 0.1894 - val_loss: 0.1120 - val_mean_absolute_error: 0.1233\n",
      "Epoch 42/50\n",
      "12710/12716 [============================>.] - ETA: 0s - loss: 0.0639 - mean_absolute_error: 0.1886\n",
      "Epoch 00042: val_mean_absolute_error did not improve from 0.12332\n",
      "12716/12716 [==============================] - 99s 8ms/step - loss: 0.0639 - mean_absolute_error: 0.1886 - val_loss: 0.0461 - val_mean_absolute_error: 0.1335\n",
      "Epoch 43/50\n",
      "12709/12716 [============================>.] - ETA: 0s - loss: 0.0640 - mean_absolute_error: 0.1889\n",
      "Epoch 00043: val_mean_absolute_error did not improve from 0.12332\n",
      "12716/12716 [==============================] - 100s 8ms/step - loss: 0.0641 - mean_absolute_error: 0.1889 - val_loss: 0.0782 - val_mean_absolute_error: 0.1235\n",
      "Epoch 44/50\n",
      "12715/12716 [============================>.] - ETA: 0s - loss: 0.0635 - mean_absolute_error: 0.1878\n",
      "Epoch 00044: val_mean_absolute_error did not improve from 0.12332\n",
      "12716/12716 [==============================] - 97s 8ms/step - loss: 0.0635 - mean_absolute_error: 0.1878 - val_loss: 0.0862 - val_mean_absolute_error: 0.1453\n",
      "Epoch 45/50\n",
      "12714/12716 [============================>.] - ETA: 0s - loss: 0.0639 - mean_absolute_error: 0.1886\n",
      "Epoch 00045: val_mean_absolute_error did not improve from 0.12332\n",
      "12716/12716 [==============================] - 98s 8ms/step - loss: 0.0639 - mean_absolute_error: 0.1886 - val_loss: 0.0813 - val_mean_absolute_error: 0.1365\n",
      "Epoch 46/50\n",
      "12715/12716 [============================>.] - ETA: 0s - loss: 0.0635 - mean_absolute_error: 0.1880\n",
      "Epoch 00046: val_mean_absolute_error did not improve from 0.12332\n",
      "12716/12716 [==============================] - 98s 8ms/step - loss: 0.0635 - mean_absolute_error: 0.1880 - val_loss: 0.0682 - val_mean_absolute_error: 0.1334\n",
      "Epoch 47/50\n",
      "12713/12716 [============================>.] - ETA: 0s - loss: 0.0633 - mean_absolute_error: 0.1878\n",
      "Epoch 00047: val_mean_absolute_error did not improve from 0.12332\n",
      "12716/12716 [==============================] - 98s 8ms/step - loss: 0.0633 - mean_absolute_error: 0.1878 - val_loss: 0.0595 - val_mean_absolute_error: 0.1341\n",
      "Epoch 48/50\n",
      "12710/12716 [============================>.] - ETA: 0s - loss: 0.0634 - mean_absolute_error: 0.1878\n",
      "Epoch 00048: val_mean_absolute_error did not improve from 0.12332\n",
      "12716/12716 [==============================] - 97s 8ms/step - loss: 0.0634 - mean_absolute_error: 0.1878 - val_loss: 0.0640 - val_mean_absolute_error: 0.1333\n",
      "Epoch 49/50\n",
      "12712/12716 [============================>.] - ETA: 0s - loss: 0.0632 - mean_absolute_error: 0.1876\n",
      "Epoch 00049: val_mean_absolute_error did not improve from 0.12332\n",
      "12716/12716 [==============================] - 96s 8ms/step - loss: 0.0632 - mean_absolute_error: 0.1876 - val_loss: 0.0596 - val_mean_absolute_error: 0.1475\n",
      "Epoch 50/50\n",
      "12716/12716 [==============================] - ETA: 0s - loss: 0.0630 - mean_absolute_error: 0.1873\n",
      "Epoch 00050: val_mean_absolute_error did not improve from 0.12332\n",
      "12716/12716 [==============================] - 95s 8ms/step - loss: 0.0630 - mean_absolute_error: 0.1873 - val_loss: 0.0906 - val_mean_absolute_error: 0.1416\n",
      "처리시간 :  1:28:08.559925\n"
     ]
    }
   ],
   "source": [
    "start = datetime.datetime.now()\n",
    "results= model.fit(x_train, y_train,\n",
    "                    validation_data=(x_valid, y_valid),\n",
    "                    batch_size=64,\n",
    "                    epochs=50,\n",
    "                   callbacks=[checkpoint])\n",
    "end = datetime.datetime.now()\n",
    "time = end-start\n",
    "print(\"처리시간 : \", time)"
   ]
  },
  {
   "cell_type": "markdown",
   "metadata": {},
   "source": [
    "### 평가 : 검증 데이터로"
   ]
  },
  {
   "cell_type": "code",
   "execution_count": 14,
   "metadata": {},
   "outputs": [],
   "source": [
    "pred= model.predict(x_test)"
   ]
  },
  {
   "cell_type": "code",
   "execution_count": 15,
   "metadata": {},
   "outputs": [
    {
     "data": {
      "image/png": "[encoded data removed]",
      "text/plain": [
       "<Figure size 432x288 with 1 Axes>"
      ]
     },
     "metadata": {},
     "output_type": "display_data"
    }
   ],
   "source": [
    "pred_365 = pred[0:365]\n",
    "y_test_365 = y_test[0:365]\n",
    "\n",
    "fig = plt.figure(facecolor='white')\n",
    "ax = fig.add_subplot(111)\n",
    "ax.plot(y_test_365, label='True')\n",
    "ax.plot(pred_365, label='Prediction')\n",
    "\n",
    "ax.legend()\n",
    "plt.show()"
   ]
  },
  {
   "cell_type": "code",
   "execution_count": 16,
   "metadata": {},
   "outputs": [
    {
     "name": "stdout",
     "output_type": "stream",
     "text": [
      "0.9018262582830021\n"
     ]
    }
   ],
   "source": [
    "from sklearn.metrics import r2_score\n",
    "r2 = r2_score(y_test, pred)\n",
    "print(r2)"
   ]
  },
  {
   "cell_type": "code",
   "execution_count": 17,
   "metadata": {},
   "outputs": [
    {
     "name": "stdout",
     "output_type": "stream",
     "text": [
      "1.4191772\n"
     ]
    }
   ],
   "source": [
    "mse = mean_squared_error(pred, y_valid, squared=False)\n",
    "print(mse)"
   ]
  },
  {
   "cell_type": "code",
   "execution_count": null,
   "metadata": {},
   "outputs": [],
   "source": []
  }
 ],
 "metadata": {
  "kernelspec": {
   "display_name": "Python 3",
   "language": "python",
   "name": "python3"
  },
  "language_info": {
   "codemirror_mode": {
    "name": "ipython",
    "version": 3
   },
   "file_extension": ".py",
   "mimetype": "text/x-python",
   "name": "python",
   "nbconvert_exporter": "python",
   "pygments_lexer": "ipython3",
   "version": "3.8.5"
  }
 },
 "nbformat": 4,
 "nbformat_minor": 4
}
