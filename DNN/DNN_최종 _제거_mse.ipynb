{
 "cells": [
  {
   "cell_type": "code",
   "execution_count": 1,
   "metadata": {},
   "outputs": [],
   "source": [
    "import numpy as np \n",
    "import pandas as pd\n",
    "import os\n",
    "import scipy.stats as ss\n",
    "import matplotlib.pyplot as plt\n",
    "import tensorflow as tf\n",
    "import sklearn\n",
    "from sklearn.preprocessing import StandardScaler\n",
    "from sklearn.model_selection import train_test_split\n",
    "from sklearn.tree import DecisionTreeRegressor\n",
    "from sklearn.metrics import mean_squared_error\n",
    "from sklearn.model_selection import GridSearchCV\n",
    "from scipy.stats import f_oneway\n",
    "import pandas as pd\n",
    "import datetime"
   ]
  },
  {
   "cell_type": "code",
   "execution_count": 2,
   "metadata": {},
   "outputs": [],
   "source": [
    "import tensorflow as tf\n",
    "gpus = tf.config.experimental.list_physical_devices('GPU')\n",
    "if gpus:\n",
    "  # 텐서플로가 첫 번째 GPU에 1GB 메모리만 할당하도록 제한\n",
    "  try:\n",
    "    tf.config.experimental.set_virtual_device_configuration(\n",
    "        gpus[0],\n",
    "        [tf.config.experimental.VirtualDeviceConfiguration(memory_limit=1024)])\n",
    "  except RuntimeError as e:\n",
    "    # 프로그램 시작시에 가상 장치가 설정되어야만 합니다\n",
    "    print(e)"
   ]
  },
  {
   "cell_type": "markdown",
   "metadata": {},
   "source": [
    "# 원핫인코딩"
   ]
  },
  {
   "cell_type": "markdown",
   "metadata": {},
   "source": [
    "### 데이터 전처리"
   ]
  },
  {
   "cell_type": "code",
   "execution_count": 3,
   "metadata": {},
   "outputs": [
    {
     "name": "stderr",
     "output_type": "stream",
     "text": [
      "C:\\Users\\PC\\anaconda3\\lib\\site-packages\\IPython\\core\\interactiveshell.py:3146: DtypeWarning: Columns (7) have mixed types.Specify dtype option on import or set low_memory=False.\n",
      "  has_raised = await self.run_ast_nodes(code_ast.body, cell_name,\n"
     ]
    }
   ],
   "source": [
    "# 데이터 불러오기\n",
    "past_sales = pd.read_csv('C:/Users/PC/표/수요예측/rossmann-store-sales/train.csv')\n",
    "store = pd.read_csv('C:/Users/PC/표/수요예측/rossmann-store-sales/store.csv')\n",
    "\n",
    "# 데이터 제거\n",
    "store = store.drop(['CompetitionOpenSinceMonth', 'CompetitionOpenSinceYear', 'Promo2SinceWeek', 'Promo2SinceYear', 'PromoInterval'], axis=1)\n",
    "\n",
    "# 데이터 정제 : 날짜\n",
    "past_sales['Date'] = pd.to_datetime(past_sales['Date'], format=\"%Y-%m-%d\")\n",
    "past_sales['Month']=pd.DatetimeIndex(past_sales.Date).month\n",
    "past_sales['Day']=pd.DatetimeIndex(past_sales.Date).day\n",
    "past_sales = past_sales.drop(['Date'],axis=1)\n",
    "\n",
    "# 데이터 정제 : StateHoliday\n",
    "past_sales['StateHoliday'] = past_sales['StateHoliday'].replace({0:'d'}) # 0 값은 d로 대체\n",
    "past_sales['StateHoliday'] = past_sales['StateHoliday'].replace({'0':'d'})# 0 값은 d로 대체\n",
    "\n",
    "# 데이터 병합\n",
    "data = pd.merge(left = past_sales,right = store, on = 'Store', how = 'right')\n",
    "\n",
    "# 결측값 처리\n",
    "data = data.dropna(axis=0)\n",
    "\n",
    "# store 이름 제거\n",
    "data = data.drop(['Store'],axis=1)\n",
    "\n",
    "# 데이터 분리(수치형, 범주형)\n",
    "digital_cols = ['Sales', 'Customers', 'CompetitionDistance', 'Month', 'Day']\n",
    "digital_data = data[digital_cols]\n",
    "digital_data = pd.DataFrame(digital_data.values, columns = digital_cols)\n",
    "\n",
    "# 표준화\n",
    "scaler = StandardScaler().fit(digital_data)\n",
    "digital_data = pd.DataFrame(scaler.transform(digital_data),index = digital_data.index, columns = digital_cols)\n",
    "\n",
    "categorey_clos = data.columns.drop(digital_cols)\n",
    "categorey_data = data[categorey_clos]\n",
    "categorey_data = pd.DataFrame(categorey_data.values, columns = categorey_clos)\n",
    "\n",
    "# 인코딩\n",
    "onehotencoding_cols = ['StateHoliday', 'StoreType', 'Assortment', 'DayOfWeek']\n",
    "categorey_data = pd.get_dummies(data = categorey_data, columns = onehotencoding_cols)\n",
    "\n",
    "# 데이터 병합\n",
    "data = pd.concat([digital_data, categorey_data], axis = 1)\n",
    "\n",
    "# 불필요한 데이터 제거\n",
    "data = data.drop(['StateHoliday_d', 'StoreType_a', 'Assortment_a', 'DayOfWeek_4'],axis=1)\n",
    "\n",
    "\n",
    "pd.options.display.max_columns = None"
   ]
  },
  {
   "cell_type": "code",
   "execution_count": 5,
   "metadata": {},
   "outputs": [],
   "source": [
    "target_col = 'Sales'\n",
    "features_cols = data.columns.drop(target_col)        \n",
    "features = data[features_cols]\n",
    "target = data[target_col]\n",
    "target = pd.DataFrame(target.values.reshape(-1,1))\n",
    "features = features.values\n",
    "target = target.values\n",
    "# 전체 데이터 중 80%는 학습용 데이터, 20%는 테스트용 데이터 추출\n",
    "x_train, x_test, y_train, y_test = train_test_split(features, target, test_size=0.4, shuffle=False)\n",
    "x_test,x_valid,y_test,y_valid = train_test_split(x_test, y_test, test_size=0.5, shuffle=False)"
   ]
  },
  {
   "cell_type": "code",
   "execution_count": 6,
   "metadata": {},
   "outputs": [],
   "source": [
    "x_train = x_train.astype(np.float32)\n",
    "x_test = x_test.astype(np.float32)\n",
    "x_valid = x_valid.astype(np.float32)\n",
    "y_train = y_train.astype(np.float32)\n",
    "y_test = y_test.astype(np.float32)\n",
    "y_valid = y_valid.astype(np.float32)"
   ]
  },
  {
   "cell_type": "code",
   "execution_count": 7,
   "metadata": {},
   "outputs": [
    {
     "name": "stdout",
     "output_type": "stream",
     "text": [
      "train_data의 row : 608740, column : 22\n",
      "test_data의 row : 202913, column : 22\n",
      "val_data의 row : 202914, column : 22\n"
     ]
    }
   ],
   "source": [
    "print('train_data의 row : %s, column : %s'%(x_train.shape[0],x_train.shape[1]))\n",
    "print('test_data의 row : %s, column : %s'%(x_test.shape[0],x_test.shape[1]))\n",
    "print('val_data의 row : %s, column : %s'%(x_valid.shape[0],x_valid.shape[1]))"
   ]
  },
  {
   "cell_type": "markdown",
   "metadata": {},
   "source": [
    "### 학습"
   ]
  },
  {
   "cell_type": "code",
   "execution_count": 8,
   "metadata": {},
   "outputs": [
    {
     "name": "stdout",
     "output_type": "stream",
     "text": [
      "Model: \"sequential\"\n",
      "_________________________________________________________________\n",
      "Layer (type)                 Output Shape              Param #   \n",
      "=================================================================\n",
      "dense (Dense)                (None, 256)               5888      \n",
      "_________________________________________________________________\n",
      "dropout (Dropout)            (None, 256)               0         \n",
      "_________________________________________________________________\n",
      "batch_normalization (BatchNo (None, 256)               1024      \n",
      "_________________________________________________________________\n",
      "dense_1 (Dense)              (None, 256)               65792     \n",
      "_________________________________________________________________\n",
      "dropout_1 (Dropout)          (None, 256)               0         \n",
      "_________________________________________________________________\n",
      "batch_normalization_1 (Batch (None, 256)               1024      \n",
      "_________________________________________________________________\n",
      "dense_2 (Dense)              (None, 256)               65792     \n",
      "_________________________________________________________________\n",
      "dropout_2 (Dropout)          (None, 256)               0         \n",
      "_________________________________________________________________\n",
      "batch_normalization_2 (Batch (None, 256)               1024      \n",
      "_________________________________________________________________\n",
      "dense_3 (Dense)              (None, 128)               32896     \n",
      "_________________________________________________________________\n",
      "dropout_3 (Dropout)          (None, 128)               0         \n",
      "_________________________________________________________________\n",
      "batch_normalization_3 (Batch (None, 128)               512       \n",
      "_________________________________________________________________\n",
      "dense_4 (Dense)              (None, 1)                 129       \n",
      "=================================================================\n",
      "Total params: 174,081\n",
      "Trainable params: 172,289\n",
      "Non-trainable params: 1,792\n",
      "_________________________________________________________________\n"
     ]
    }
   ],
   "source": [
    "model = tf.keras.Sequential()\n",
    "model.add(tf.keras.layers.Dense(256,input_dim = x_train.shape[1],activation='relu'))\n",
    "model.add(tf.keras.layers.Dropout(0.2))\n",
    "model.add(tf.keras.layers.BatchNormalization())\n",
    "\n",
    "model.add(tf.keras.layers.Dense(256,activation = 'relu'))\n",
    "model.add(tf.keras.layers.Dropout(0.2))\n",
    "model.add(tf.keras.layers.BatchNormalization())\n",
    "\n",
    "model.add(tf.keras.layers.Dense(256,activation = 'relu'))\n",
    "model.add(tf.keras.layers.Dropout(0.2))\n",
    "model.add(tf.keras.layers.BatchNormalization())\n",
    "\n",
    "model.add(tf.keras.layers.Dense(128,activation = 'relu'))\n",
    "model.add(tf.keras.layers.Dropout(0.2))\n",
    "model.add(tf.keras.layers.BatchNormalization())\n",
    "\n",
    "model.add(tf.keras.layers.Dense(1))\n",
    "\n",
    "model.compile(optimizer='adam',\n",
    "             loss='mean_squared_error',\n",
    "             metrics=['mean_absolute_error'])\n",
    "\n",
    "model_path = 'C:/project/rossmann-store-sales'\n",
    "checkpoint = tf.keras.callbacks.ModelCheckpoint(filepath=model_path , monitor='val_mean_absolute_error', verbose=1, save_best_only=True)\n",
    "# early_stopping = EarlyStopping(monitor='val_loss', patience=6)\n",
    "\n",
    "model.summary()"
   ]
  },
  {
   "cell_type": "code",
   "execution_count": 9,
   "metadata": {
    "scrolled": false
   },
   "outputs": [
    {
     "name": "stdout",
     "output_type": "stream",
     "text": [
      "Epoch 1/50\n",
      "9509/9512 [============================>.] - ETA: 0s - loss: 0.1258 - mean_absolute_error: 0.2533\n",
      "Epoch 00001: val_mean_absolute_error improved from inf to 0.20019, saving model to C:/project\\rossmann-store-sales\n",
      "WARNING:tensorflow:From C:\\Users\\PC\\anaconda3\\lib\\site-packages\\tensorflow\\python\\training\\tracking\\tracking.py:111: Model.state_updates (from tensorflow.python.keras.engine.training) is deprecated and will be removed in a future version.\n",
      "Instructions for updating:\n",
      "This property should not be used in TensorFlow 2.0, as updates are applied automatically.\n",
      "WARNING:tensorflow:From C:\\Users\\PC\\anaconda3\\lib\\site-packages\\tensorflow\\python\\training\\tracking\\tracking.py:111: Layer.updates (from tensorflow.python.keras.engine.base_layer) is deprecated and will be removed in a future version.\n",
      "Instructions for updating:\n",
      "This property should not be used in TensorFlow 2.0, as updates are applied automatically.\n",
      "INFO:tensorflow:Assets written to: C:/project\\rossmann-store-sales\\assets\n",
      "9512/9512 [==============================] - 92s 10ms/step - loss: 0.1258 - mean_absolute_error: 0.2533 - val_loss: 0.1744 - val_mean_absolute_error: 0.2002\n",
      "Epoch 2/50\n",
      "9507/9512 [============================>.] - ETA: 0s - loss: 0.0892 - mean_absolute_error: 0.2205\n",
      "Epoch 00002: val_mean_absolute_error did not improve from 0.20019\n",
      "9512/9512 [==============================] - 81s 8ms/step - loss: 0.0892 - mean_absolute_error: 0.2205 - val_loss: 0.2613 - val_mean_absolute_error: 0.2015\n",
      "Epoch 3/50\n",
      "9507/9512 [============================>.] - ETA: 0s - loss: 0.0841 - mean_absolute_error: 0.2143\n",
      "Epoch 00003: val_mean_absolute_error did not improve from 0.20019\n",
      "9512/9512 [==============================] - 85s 9ms/step - loss: 0.0841 - mean_absolute_error: 0.2143 - val_loss: 0.3259 - val_mean_absolute_error: 0.2167\n",
      "Epoch 4/50\n",
      "9512/9512 [==============================] - ETA: 0s - loss: 0.0819 - mean_absolute_error: 0.2118\n",
      "Epoch 00004: val_mean_absolute_error did not improve from 0.20019\n",
      "9512/9512 [==============================] - 89s 9ms/step - loss: 0.0819 - mean_absolute_error: 0.2118 - val_loss: 0.2547 - val_mean_absolute_error: 0.2095\n",
      "Epoch 5/50\n",
      "9510/9512 [============================>.] - ETA: 0s - loss: 0.0801 - mean_absolute_error: 0.2098\n",
      "Epoch 00005: val_mean_absolute_error did not improve from 0.20019\n",
      "9512/9512 [==============================] - 90s 9ms/step - loss: 0.0801 - mean_absolute_error: 0.2098 - val_loss: 0.3121 - val_mean_absolute_error: 0.2237\n",
      "Epoch 6/50\n",
      "9507/9512 [============================>.] - ETA: 0s - loss: 0.0790 - mean_absolute_error: 0.2086\n",
      "Epoch 00006: val_mean_absolute_error did not improve from 0.20019\n",
      "9512/9512 [==============================] - 93s 10ms/step - loss: 0.0790 - mean_absolute_error: 0.2086 - val_loss: 0.2177 - val_mean_absolute_error: 0.2123\n",
      "Epoch 7/50\n",
      "9507/9512 [============================>.] - ETA: 0s - loss: 0.0776 - mean_absolute_error: 0.2067\n",
      "Epoch 00007: val_mean_absolute_error did not improve from 0.20019\n",
      "9512/9512 [==============================] - 83s 9ms/step - loss: 0.0776 - mean_absolute_error: 0.2067 - val_loss: 0.2893 - val_mean_absolute_error: 0.2048\n",
      "Epoch 8/50\n",
      "9510/9512 [============================>.] - ETA: 0s - loss: 0.0778 - mean_absolute_error: 0.2073\n",
      "Epoch 00008: val_mean_absolute_error did not improve from 0.20019\n",
      "9512/9512 [==============================] - 92s 10ms/step - loss: 0.0779 - mean_absolute_error: 0.2073 - val_loss: 0.2771 - val_mean_absolute_error: 0.2169\n",
      "Epoch 9/50\n",
      "9512/9512 [==============================] - ETA: 0s - loss: 0.0773 - mean_absolute_error: 0.2065\n",
      "Epoch 00009: val_mean_absolute_error did not improve from 0.20019\n",
      "9512/9512 [==============================] - 89s 9ms/step - loss: 0.0773 - mean_absolute_error: 0.2065 - val_loss: 0.2171 - val_mean_absolute_error: 0.2158\n",
      "Epoch 10/50\n",
      "9507/9512 [============================>.] - ETA: 0s - loss: 0.0764 - mean_absolute_error: 0.2053\n",
      "Epoch 00010: val_mean_absolute_error did not improve from 0.20019\n",
      "9512/9512 [==============================] - 89s 9ms/step - loss: 0.0764 - mean_absolute_error: 0.2053 - val_loss: 0.2174 - val_mean_absolute_error: 0.2180\n",
      "Epoch 11/50\n",
      "9501/9512 [============================>.] - ETA: 0s - loss: 0.0755 - mean_absolute_error: 0.2040\n",
      "Epoch 00011: val_mean_absolute_error did not improve from 0.20019\n",
      "9512/9512 [==============================] - 89s 9ms/step - loss: 0.0755 - mean_absolute_error: 0.2040 - val_loss: 0.2909 - val_mean_absolute_error: 0.2145\n",
      "Epoch 12/50\n",
      "9512/9512 [==============================] - ETA: 0s - loss: 0.0754 - mean_absolute_error: 0.2040\n",
      "Epoch 00012: val_mean_absolute_error did not improve from 0.20019\n",
      "9512/9512 [==============================] - 90s 9ms/step - loss: 0.0754 - mean_absolute_error: 0.2040 - val_loss: 0.3576 - val_mean_absolute_error: 0.2222\n",
      "Epoch 13/50\n",
      "9504/9512 [============================>.] - ETA: 0s - loss: 0.0754 - mean_absolute_error: 0.2042- ETA: 1s - loss: 0.07\n",
      "Epoch 00013: val_mean_absolute_error did not improve from 0.20019\n",
      "9512/9512 [==============================] - 90s 9ms/step - loss: 0.0754 - mean_absolute_error: 0.2042 - val_loss: 0.2395 - val_mean_absolute_error: 0.2143\n",
      "Epoch 14/50\n",
      "9507/9512 [============================>.] - ETA: 0s - loss: 0.0750 - mean_absolute_error: 0.2036\n",
      "Epoch 00014: val_mean_absolute_error did not improve from 0.20019\n",
      "9512/9512 [==============================] - 89s 9ms/step - loss: 0.0750 - mean_absolute_error: 0.2036 - val_loss: 0.2292 - val_mean_absolute_error: 0.2165\n",
      "Epoch 15/50\n",
      "9511/9512 [============================>.] - ETA: 0s - loss: 0.0747 - mean_absolute_error: 0.2031\n",
      "Epoch 00015: val_mean_absolute_error did not improve from 0.20019\n",
      "9512/9512 [==============================] - 89s 9ms/step - loss: 0.0747 - mean_absolute_error: 0.2031 - val_loss: 0.2337 - val_mean_absolute_error: 0.2070\n",
      "Epoch 16/50\n",
      "9506/9512 [============================>.] - ETA: 0s - loss: 0.0741 - mean_absolute_error: 0.2024\n",
      "Epoch 00016: val_mean_absolute_error did not improve from 0.20019\n",
      "9512/9512 [==============================] - 89s 9ms/step - loss: 0.0741 - mean_absolute_error: 0.2024 - val_loss: 0.2234 - val_mean_absolute_error: 0.2075\n",
      "Epoch 17/50\n",
      "9506/9512 [============================>.] - ETA: 0s - loss: 0.0740 - mean_absolute_error: 0.2022\n",
      "Epoch 00017: val_mean_absolute_error did not improve from 0.20019\n",
      "9512/9512 [==============================] - 88s 9ms/step - loss: 0.0740 - mean_absolute_error: 0.2022 - val_loss: 0.2352 - val_mean_absolute_error: 0.2094\n",
      "Epoch 18/50\n",
      "9512/9512 [==============================] - ETA: 0s - loss: 0.0737 - mean_absolute_error: 0.2016\n",
      "Epoch 00018: val_mean_absolute_error did not improve from 0.20019\n",
      "9512/9512 [==============================] - 93s 10ms/step - loss: 0.0737 - mean_absolute_error: 0.2016 - val_loss: 0.2964 - val_mean_absolute_error: 0.2216\n",
      "Epoch 19/50\n",
      "9509/9512 [============================>.] - ETA: 0s - loss: 0.0735 - mean_absolute_error: 0.2015\n",
      "Epoch 00019: val_mean_absolute_error did not improve from 0.20019\n",
      "9512/9512 [==============================] - 88s 9ms/step - loss: 0.0735 - mean_absolute_error: 0.2015 - val_loss: 0.1708 - val_mean_absolute_error: 0.2008\n",
      "Epoch 20/50\n",
      "9507/9512 [============================>.] - ETA: 0s - loss: 0.0737 - mean_absolute_error: 0.2019\n",
      "Epoch 00020: val_mean_absolute_error did not improve from 0.20019\n",
      "9512/9512 [==============================] - 79s 8ms/step - loss: 0.0737 - mean_absolute_error: 0.2019 - val_loss: 0.3498 - val_mean_absolute_error: 0.2278\n",
      "Epoch 21/50\n",
      "9509/9512 [============================>.] - ETA: 0s - loss: 0.0730 - mean_absolute_error: 0.2009\n",
      "Epoch 00021: val_mean_absolute_error did not improve from 0.20019\n",
      "9512/9512 [==============================] - 85s 9ms/step - loss: 0.0730 - mean_absolute_error: 0.2009 - val_loss: 0.2691 - val_mean_absolute_error: 0.2207\n",
      "Epoch 22/50\n",
      "9512/9512 [==============================] - ETA: 0s - loss: 0.0727 - mean_absolute_error: 0.2004\n",
      "Epoch 00022: val_mean_absolute_error did not improve from 0.20019\n",
      "9512/9512 [==============================] - 91s 10ms/step - loss: 0.0727 - mean_absolute_error: 0.2004 - val_loss: 0.2894 - val_mean_absolute_error: 0.2099\n",
      "Epoch 23/50\n",
      "9507/9512 [============================>.] - ETA: 0s - loss: 0.0729 - mean_absolute_error: 0.2007- ETA: 1s - loss: 0.0729 - mean_a\n",
      "Epoch 00023: val_mean_absolute_error did not improve from 0.20019\n",
      "9512/9512 [==============================] - 92s 10ms/step - loss: 0.0729 - mean_absolute_error: 0.2007 - val_loss: 0.2412 - val_mean_absolute_error: 0.2097\n",
      "Epoch 24/50\n",
      "9510/9512 [============================>.] - ETA: 0s - loss: 0.0732 - mean_absolute_error: 0.2012\n",
      "Epoch 00024: val_mean_absolute_error did not improve from 0.20019\n",
      "9512/9512 [==============================] - 90s 9ms/step - loss: 0.0732 - mean_absolute_error: 0.2012 - val_loss: 0.4384 - val_mean_absolute_error: 0.2147\n",
      "Epoch 25/50\n",
      "9510/9512 [============================>.] - ETA: 0s - loss: 0.0723 - mean_absolute_error: 0.2001\n",
      "Epoch 00025: val_mean_absolute_error did not improve from 0.20019\n",
      "9512/9512 [==============================] - 92s 10ms/step - loss: 0.0723 - mean_absolute_error: 0.2001 - val_loss: 0.4916 - val_mean_absolute_error: 0.2262\n",
      "Epoch 26/50\n",
      "9511/9512 [============================>.] - ETA: 0s - loss: 0.0722 - mean_absolute_error: 0.1999\n",
      "Epoch 00026: val_mean_absolute_error did not improve from 0.20019\n",
      "9512/9512 [==============================] - 94s 10ms/step - loss: 0.0722 - mean_absolute_error: 0.1999 - val_loss: 0.3332 - val_mean_absolute_error: 0.2217\n",
      "Epoch 27/50\n",
      "9510/9512 [============================>.] - ETA: 0s - loss: 0.0723 - mean_absolute_error: 0.2001\n",
      "Epoch 00027: val_mean_absolute_error did not improve from 0.20019\n",
      "9512/9512 [==============================] - 89s 9ms/step - loss: 0.0723 - mean_absolute_error: 0.2001 - val_loss: 0.3790 - val_mean_absolute_error: 0.2153\n",
      "Epoch 28/50\n",
      "9503/9512 [============================>.] - ETA: 0s - loss: 0.0716 - mean_absolute_error: 0.1990\n",
      "Epoch 00028: val_mean_absolute_error did not improve from 0.20019\n",
      "9512/9512 [==============================] - 78s 8ms/step - loss: 0.0716 - mean_absolute_error: 0.1990 - val_loss: 0.3093 - val_mean_absolute_error: 0.2059\n",
      "Epoch 29/50\n",
      "9510/9512 [============================>.] - ETA: 0s - loss: 0.0720 - mean_absolute_error: 0.1997\n",
      "Epoch 00029: val_mean_absolute_error did not improve from 0.20019\n",
      "9512/9512 [==============================] - 85s 9ms/step - loss: 0.0720 - mean_absolute_error: 0.1997 - val_loss: 0.3541 - val_mean_absolute_error: 0.2168\n",
      "Epoch 30/50\n",
      "9506/9512 [============================>.] - ETA: 0s - loss: 0.0720 - mean_absolute_error: 0.1997\n",
      "Epoch 00030: val_mean_absolute_error did not improve from 0.20019\n",
      "9512/9512 [==============================] - 91s 10ms/step - loss: 0.0720 - mean_absolute_error: 0.1996 - val_loss: 0.3454 - val_mean_absolute_error: 0.2250\n",
      "Epoch 31/50\n",
      "9509/9512 [============================>.] - ETA: 0s - loss: 0.0715 - mean_absolute_error: 0.1988\n",
      "Epoch 00031: val_mean_absolute_error did not improve from 0.20019\n",
      "9512/9512 [==============================] - 93s 10ms/step - loss: 0.0715 - mean_absolute_error: 0.1988 - val_loss: 0.3220 - val_mean_absolute_error: 0.2372\n",
      "Epoch 32/50\n",
      "9511/9512 [============================>.] - ETA: 0s - loss: 0.0719 - mean_absolute_error: 0.1996\n",
      "Epoch 00032: val_mean_absolute_error did not improve from 0.20019\n",
      "9512/9512 [==============================] - 91s 10ms/step - loss: 0.0719 - mean_absolute_error: 0.1996 - val_loss: 0.2915 - val_mean_absolute_error: 0.2069\n",
      "Epoch 33/50\n",
      "9510/9512 [============================>.] - ETA: 0s - loss: 0.0713 - mean_absolute_error: 0.1985\n",
      "Epoch 00033: val_mean_absolute_error did not improve from 0.20019\n",
      "9512/9512 [==============================] - 91s 10ms/step - loss: 0.0713 - mean_absolute_error: 0.1985 - val_loss: 0.4372 - val_mean_absolute_error: 0.2172\n",
      "Epoch 34/50\n",
      "9512/9512 [==============================] - ETA: 0s - loss: 0.0711 - mean_absolute_error: 0.1983\n",
      "Epoch 00034: val_mean_absolute_error did not improve from 0.20019\n",
      "9512/9512 [==============================] - 82s 9ms/step - loss: 0.0711 - mean_absolute_error: 0.1983 - val_loss: 0.4346 - val_mean_absolute_error: 0.2233\n",
      "Epoch 35/50\n",
      "9508/9512 [============================>.] - ETA: 0s - loss: 0.0710 - mean_absolute_error: 0.1983\n",
      "Epoch 00035: val_mean_absolute_error did not improve from 0.20019\n",
      "9512/9512 [==============================] - 86s 9ms/step - loss: 0.0710 - mean_absolute_error: 0.1982 - val_loss: 0.3595 - val_mean_absolute_error: 0.2112\n",
      "Epoch 36/50\n",
      "9512/9512 [==============================] - ETA: 0s - loss: 0.0707 - mean_absolute_error: 0.1980\n",
      "Epoch 00036: val_mean_absolute_error did not improve from 0.20019\n",
      "9512/9512 [==============================] - 94s 10ms/step - loss: 0.0707 - mean_absolute_error: 0.1980 - val_loss: 0.4247 - val_mean_absolute_error: 0.2279\n",
      "Epoch 37/50\n",
      "9504/9512 [============================>.] - ETA: 0s - loss: 0.0708 - mean_absolute_error: 0.1982\n",
      "Epoch 00037: val_mean_absolute_error did not improve from 0.20019\n",
      "9512/9512 [==============================] - 95s 10ms/step - loss: 0.0708 - mean_absolute_error: 0.1982 - val_loss: 0.3089 - val_mean_absolute_error: 0.2208\n",
      "Epoch 38/50\n",
      "9507/9512 [============================>.] - ETA: 0s - loss: 0.0712 - mean_absolute_error: 0.1985\n",
      "Epoch 00038: val_mean_absolute_error did not improve from 0.20019\n",
      "9512/9512 [==============================] - 94s 10ms/step - loss: 0.0712 - mean_absolute_error: 0.1985 - val_loss: 0.3950 - val_mean_absolute_error: 0.2274\n",
      "Epoch 39/50\n",
      "9511/9512 [============================>.] - ETA: 0s - loss: 0.0706 - mean_absolute_error: 0.1981\n",
      "Epoch 00039: val_mean_absolute_error did not improve from 0.20019\n",
      "9512/9512 [==============================] - 81s 9ms/step - loss: 0.0706 - mean_absolute_error: 0.1981 - val_loss: 0.4112 - val_mean_absolute_error: 0.2186\n",
      "Epoch 40/50\n",
      "9512/9512 [==============================] - ETA: 0s - loss: 0.0708 - mean_absolute_error: 0.1981\n",
      "Epoch 00040: val_mean_absolute_error did not improve from 0.20019\n",
      "9512/9512 [==============================] - 83s 9ms/step - loss: 0.0708 - mean_absolute_error: 0.1981 - val_loss: 0.3999 - val_mean_absolute_error: 0.2262\n",
      "Epoch 41/50\n",
      "9510/9512 [============================>.] - ETA: 0s - loss: 0.0701 - mean_absolute_error: 0.1971\n",
      "Epoch 00041: val_mean_absolute_error did not improve from 0.20019\n",
      "9512/9512 [==============================] - 94s 10ms/step - loss: 0.0701 - mean_absolute_error: 0.1970 - val_loss: 0.3534 - val_mean_absolute_error: 0.2115\n",
      "Epoch 42/50\n",
      "9507/9512 [============================>.] - ETA: 0s - loss: 0.0707 - mean_absolute_error: 0.1978\n",
      "Epoch 00042: val_mean_absolute_error did not improve from 0.20019\n",
      "9512/9512 [==============================] - 93s 10ms/step - loss: 0.0706 - mean_absolute_error: 0.1978 - val_loss: 0.4915 - val_mean_absolute_error: 0.2282\n",
      "Epoch 43/50\n",
      "9507/9512 [============================>.] - ETA: 0s - loss: 0.0709 - mean_absolute_error: 0.1984\n",
      "Epoch 00043: val_mean_absolute_error did not improve from 0.20019\n",
      "9512/9512 [==============================] - 94s 10ms/step - loss: 0.0709 - mean_absolute_error: 0.1984 - val_loss: 0.3827 - val_mean_absolute_error: 0.2112\n",
      "Epoch 44/50\n",
      "9504/9512 [============================>.] - ETA: 0s - loss: 0.0702 - mean_absolute_error: 0.1970\n",
      "Epoch 00044: val_mean_absolute_error did not improve from 0.20019\n",
      "9512/9512 [==============================] - 93s 10ms/step - loss: 0.0702 - mean_absolute_error: 0.1970 - val_loss: 0.4013 - val_mean_absolute_error: 0.2157\n",
      "Epoch 45/50\n",
      "9511/9512 [============================>.] - ETA: 0s - loss: 0.0699 - mean_absolute_error: 0.1969\n",
      "Epoch 00045: val_mean_absolute_error did not improve from 0.20019\n",
      "9512/9512 [==============================] - 91s 10ms/step - loss: 0.0699 - mean_absolute_error: 0.1969 - val_loss: 0.4710 - val_mean_absolute_error: 0.2252\n",
      "Epoch 46/50\n",
      "9511/9512 [============================>.] - ETA: 0s - loss: 0.0704 - mean_absolute_error: 0.1977\n",
      "Epoch 00046: val_mean_absolute_error did not improve from 0.20019\n",
      "9512/9512 [==============================] - 93s 10ms/step - loss: 0.0704 - mean_absolute_error: 0.1977 - val_loss: 0.4439 - val_mean_absolute_error: 0.2157\n",
      "Epoch 47/50\n",
      "9506/9512 [============================>.] - ETA: 0s - loss: 0.0701 - mean_absolute_error: 0.1973\n",
      "Epoch 00047: val_mean_absolute_error did not improve from 0.20019\n",
      "9512/9512 [==============================] - 75s 8ms/step - loss: 0.0701 - mean_absolute_error: 0.1972 - val_loss: 0.3109 - val_mean_absolute_error: 0.2121\n"
     ]
    },
    {
     "name": "stdout",
     "output_type": "stream",
     "text": [
      "Epoch 48/50\n",
      "9510/9512 [============================>.] - ETA: 0s - loss: 0.0699 - mean_absolute_error: 0.1974- ETA: 0s - loss: 0.0699 - mean_absol\n",
      "Epoch 00048: val_mean_absolute_error did not improve from 0.20019\n",
      "9512/9512 [==============================] - 92s 10ms/step - loss: 0.0699 - mean_absolute_error: 0.1974 - val_loss: 0.4019 - val_mean_absolute_error: 0.2194\n",
      "Epoch 49/50\n",
      "9510/9512 [============================>.] - ETA: 0s - loss: 0.0698 - mean_absolute_error: 0.1971- ET\n",
      "Epoch 00049: val_mean_absolute_error did not improve from 0.20019\n",
      "9512/9512 [==============================] - 98s 10ms/step - loss: 0.0698 - mean_absolute_error: 0.1971 - val_loss: 0.4102 - val_mean_absolute_error: 0.2176\n",
      "Epoch 50/50\n",
      "9511/9512 [============================>.] - ETA: 0s - loss: 0.0692 - mean_absolute_error: 0.1960\n",
      "Epoch 00050: val_mean_absolute_error did not improve from 0.20019\n",
      "9512/9512 [==============================] - 83s 9ms/step - loss: 0.0692 - mean_absolute_error: 0.1960 - val_loss: 0.4222 - val_mean_absolute_error: 0.2167\n",
      "처리시간 :  1:14:13.634466\n"
     ]
    }
   ],
   "source": [
    "start = datetime.datetime.now()\n",
    "\n",
    "results= model.fit(x_train, y_train,\n",
    "                    validation_data=(x_valid, y_valid),\n",
    "                    batch_size=64,\n",
    "                    epochs=50,\n",
    "                   callbacks=[checkpoint])\n",
    "\n",
    "end = datetime.datetime.now()\n",
    "time = end-start\n",
    "print(\"처리시간 : \", time)"
   ]
  },
  {
   "cell_type": "markdown",
   "metadata": {},
   "source": [
    "### 평가 : 테스트 데이터로"
   ]
  },
  {
   "cell_type": "code",
   "execution_count": 10,
   "metadata": {},
   "outputs": [],
   "source": [
    "pred= model.predict(x_valid)"
   ]
  },
  {
   "cell_type": "code",
   "execution_count": 11,
   "metadata": {},
   "outputs": [
    {
     "data": {
      "image/png": "[encoded data removed]",
      "text/plain": [
       "<Figure size 432x288 with 1 Axes>"
      ]
     },
     "metadata": {},
     "output_type": "display_data"
    }
   ],
   "source": [
    "pred_365 = pred[0:365]\n",
    "y_test_365 = y_valid[0:365]\n",
    "\n",
    "fig = plt.figure(facecolor='white')\n",
    "ax = fig.add_subplot(111)\n",
    "ax.plot(y_test_365, label='True')\n",
    "ax.plot(pred_365, label='Prediction')\n",
    "\n",
    "ax.legend()\n",
    "plt.show()"
   ]
  },
  {
   "cell_type": "code",
   "execution_count": 20,
   "metadata": {},
   "outputs": [
    {
     "name": "stdout",
     "output_type": "stream",
     "text": [
      "0.6944433054539908\n"
     ]
    }
   ],
   "source": [
    "from sklearn.metrics import r2_score\n",
    "r2 = r2_score(pred, y_valid)\n",
    "print(r2)"
   ]
  },
  {
   "cell_type": "code",
   "execution_count": 21,
   "metadata": {},
   "outputs": [
    {
     "name": "stdout",
     "output_type": "stream",
     "text": [
      "0.64975804\n"
     ]
    }
   ],
   "source": [
    "mse = mean_squared_error(pred, y_valid, squared=False)\n",
    "print(mse)"
   ]
  },
  {
   "cell_type": "code",
   "execution_count": null,
   "metadata": {},
   "outputs": [],
   "source": []
  }
 ],
 "metadata": {
  "kernelspec": {
   "display_name": "Python 3",
   "language": "python",
   "name": "python3"
  },
  "language_info": {
   "codemirror_mode": {
    "name": "ipython",
    "version": 3
   },
   "file_extension": ".py",
   "mimetype": "text/x-python",
   "name": "python",
   "nbconvert_exporter": "python",
   "pygments_lexer": "ipython3",
   "version": "3.8.5"
  }
 },
 "nbformat": 4,
 "nbformat_minor": 4
}
