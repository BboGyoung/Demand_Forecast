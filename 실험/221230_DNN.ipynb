{
 "cells": [
  {
   "cell_type": "code",
   "execution_count": 2,
   "metadata": {},
   "outputs": [],
   "source": [
    "import numpy as np \n",
    "import pandas as pd\n",
    "import os\n",
    "import scipy.stats as ss\n",
    "import matplotlib.pyplot as plt\n",
    "import tensorflow as tf\n",
    "import sklearn\n",
    "from sklearn.preprocessing import StandardScaler\n",
    "from sklearn.model_selection import train_test_split\n",
    "from sklearn.tree import DecisionTreeRegressor\n",
    "from sklearn.metrics import mean_squared_error\n",
    "from sklearn.model_selection import GridSearchCV\n",
    "from scipy.stats import f_oneway\n",
    "import pandas as pd\n",
    "import datetime"
   ]
  },
  {
   "cell_type": "code",
   "execution_count": 3,
   "metadata": {},
   "outputs": [],
   "source": [
    "import tensorflow as tf\n",
    "gpus = tf.config.experimental.list_physical_devices('GPU')\n",
    "if gpus:\n",
    "  # 텐서플로가 첫 번째 GPU에 1GB 메모리만 할당하도록 제한\n",
    "  try:\n",
    "    tf.config.experimental.set_virtual_device_configuration(\n",
    "        gpus[0],\n",
    "        [tf.config.experimental.VirtualDeviceConfiguration(memory_limit=1024)])\n",
    "  except RuntimeError as e:\n",
    "    # 프로그램 시작시에 가상 장치가 설정되어야만 합니다\n",
    "    print(e)"
   ]
  },
  {
   "cell_type": "markdown",
   "metadata": {},
   "source": [
    "# 원핫인코딩"
   ]
  },
  {
   "cell_type": "markdown",
   "metadata": {},
   "source": [
    "### 데이터 전처리"
   ]
  },
  {
   "cell_type": "code",
   "execution_count": 4,
   "metadata": {},
   "outputs": [
    {
     "name": "stderr",
     "output_type": "stream",
     "text": [
      "C:\\Users\\PC\\anaconda3\\lib\\site-packages\\IPython\\core\\interactiveshell.py:3146: DtypeWarning: Columns (7) have mixed types.Specify dtype option on import or set low_memory=False.\n",
      "  has_raised = await self.run_ast_nodes(code_ast.body, cell_name,\n"
     ]
    }
   ],
   "source": [
    "# 데이터 불러오기\n",
    "past_sales = pd.read_csv('C:/Users/PC/표/수요예측/rossmann-store-sales/train.csv')\n",
    "store = pd.read_csv('C:/Users/PC/표/수요예측/rossmann-store-sales/store.csv')\n",
    "\n",
    "# 데이터 제거\n",
    "store = store.drop(['CompetitionOpenSinceMonth', 'CompetitionOpenSinceYear', 'Promo2SinceWeek', 'Promo2SinceYear', 'PromoInterval'], axis=1)\n",
    "\n",
    "# 데이터 병합\n",
    "data = pd.merge(left = past_sales,right = store, on = 'Store', how = 'right')\n",
    "\n",
    "# 날짜\n",
    "data['Date'] = pd.to_datetime(data['Date'], format=\"%Y-%m-%d\")\n",
    "data['Month']=pd.DatetimeIndex(data.Date).month\n",
    "data['Day']=pd.DatetimeIndex(data.Date).day\n",
    "data = data.drop(['Date'],axis=1)\n",
    "\n",
    "# StateHoliday\n",
    "data['StateHoliday'] = data['StateHoliday'].replace({0:'d'}) # 0 값은 d로 대체\n",
    "data['StateHoliday'] = data['StateHoliday'].replace({'0':'d'})# 0 값은 d로 대체\n",
    "\n",
    "\n",
    "# 결측값 처리\n",
    "data = data.dropna(axis=0)\n",
    "\n",
    "# store 이름 제거\n",
    "data = data.drop(['Store'],axis=1)\n",
    "\n",
    "# 데이터 분리(수치형, 범주형)\n",
    "digital_cols = ['Sales', 'Customers', 'CompetitionDistance', 'Month', 'Day']\n",
    "digital_data = data[digital_cols]\n",
    "digital_data = pd.DataFrame(digital_data.values, columns = digital_cols)\n",
    "\n",
    "# 표준화\n",
    "scaler = StandardScaler().fit(digital_data)\n",
    "digital_data = pd.DataFrame(scaler.transform(digital_data),index = digital_data.index, columns = digital_cols)\n",
    "\n",
    "categorey_clos = data.columns.drop(digital_cols)\n",
    "categorey_data = data[categorey_clos]\n",
    "categorey_data = pd.DataFrame(categorey_data.values, columns = categorey_clos)\n",
    "\n",
    "# 인코딩\n",
    "onehotencoding_cols = ['StateHoliday', 'StoreType', 'Assortment', 'DayOfWeek']\n",
    "categorey_data = pd.get_dummies(data = categorey_data, columns = onehotencoding_cols)\n",
    "\n",
    "# 데이터 병합\n",
    "data = pd.concat([digital_data, categorey_data], axis = 1)\n",
    "\n",
    "pd.options.display.max_columns = None"
   ]
  },
  {
   "cell_type": "code",
   "execution_count": 25,
   "metadata": {
    "scrolled": true
   },
   "outputs": [],
   "source": [
    "# 형 통일\n",
    "data = data.astype({'Promo2':'int', 'StateHoliday_b':'int', 'StateHoliday_c':'int', 'StateHoliday_d':'int', 'StoreType_a':'int', 'StoreType_b':'int', 'StoreType_c':'int', 'StoreType_d':'int'})\n",
    "data = data.astype({'Assortment_a':'int', 'Assortment_b':'int', 'Assortment_c':'int', 'DayOfWeek_1':'int', 'DayOfWeek_2':'int', 'DayOfWeek_3':'int', 'DayOfWeek_4':'int', 'DayOfWeek_5':'int', 'DayOfWeek_6':'int', 'DayOfWeek_7':'int'})"
   ]
  },
  {
   "cell_type": "code",
   "execution_count": 26,
   "metadata": {},
   "outputs": [
    {
     "data": {
      "text/plain": [
       "Sales                  float64\n",
       "Customers              float64\n",
       "CompetitionDistance    float64\n",
       "Month                  float64\n",
       "Day                    float64\n",
       "Open                   float64\n",
       "Promo                    int32\n",
       "SchoolHoliday            int32\n",
       "Promo2                   int32\n",
       "StateHoliday_a           int32\n",
       "StateHoliday_b           int32\n",
       "StateHoliday_c           int32\n",
       "StateHoliday_d           int32\n",
       "StoreType_a              int32\n",
       "StoreType_b              int32\n",
       "StoreType_c              int32\n",
       "StoreType_d              int32\n",
       "Assortment_a             int32\n",
       "Assortment_b             int32\n",
       "Assortment_c             int32\n",
       "DayOfWeek_1              int32\n",
       "DayOfWeek_2              int32\n",
       "DayOfWeek_3              int32\n",
       "DayOfWeek_4              int32\n",
       "DayOfWeek_5              int32\n",
       "DayOfWeek_6              int32\n",
       "DayOfWeek_7              int32\n",
       "dtype: object"
      ]
     },
     "execution_count": 26,
     "metadata": {},
     "output_type": "execute_result"
    }
   ],
   "source": [
    "data.dtypes"
   ]
  },
  {
   "cell_type": "code",
   "execution_count": 27,
   "metadata": {},
   "outputs": [],
   "source": [
    "target_col = 'Sales'\n",
    "features_cols = data.columns.drop(target_col)        \n",
    "features = data[features_cols]\n",
    "target = data[target_col]\n",
    "target = pd.DataFrame(target.values.reshape(-1,1))\n",
    "features = features.values\n",
    "target = target.values\n",
    "# 전체 데이터 중 80%는 학습용 데이터, 20%는 테스트용 데이터 추출\n",
    "x_train, x_test, y_train, y_test = train_test_split(features, target, test_size=0.4, shuffle=False)\n",
    "x_test,x_valid,y_test,y_valid = train_test_split(x_test, y_test, test_size=0.5, shuffle=False)"
   ]
  },
  {
   "cell_type": "code",
   "execution_count": 40,
   "metadata": {},
   "outputs": [],
   "source": [
    "x_train = x_train.astype(np.float32)\n",
    "x_test = x_test.astype(np.float32)\n",
    "x_valid = x_valid.astype(np.float32)\n",
    "y_train = y_train.astype(np.float32)\n",
    "y_test = y_test.astype(np.float32)\n",
    "y_valid = y_valid.astype(np.float32)"
   ]
  },
  {
   "cell_type": "code",
   "execution_count": 29,
   "metadata": {
    "scrolled": true
   },
   "outputs": [
    {
     "name": "stdout",
     "output_type": "stream",
     "text": [
      "train_data의 row : 608740, column : 26\n",
      "test_data의 row : 202913, column : 26\n",
      "val_data의 row : 202914, column : 26\n"
     ]
    }
   ],
   "source": [
    "print('train_data의 row : %s, column : %s'%(x_train.shape[0],x_train.shape[1]))\n",
    "print('test_data의 row : %s, column : %s'%(x_test.shape[0],x_test.shape[1]))\n",
    "print('val_data의 row : %s, column : %s'%(x_valid.shape[0],x_valid.shape[1]))"
   ]
  },
  {
   "cell_type": "markdown",
   "metadata": {},
   "source": [
    "### 학습"
   ]
  },
  {
   "cell_type": "code",
   "execution_count": 30,
   "metadata": {},
   "outputs": [
    {
     "name": "stdout",
     "output_type": "stream",
     "text": [
      "Model: \"sequential\"\n",
      "_________________________________________________________________\n",
      "Layer (type)                 Output Shape              Param #   \n",
      "=================================================================\n",
      "dense (Dense)                (None, 256)               6912      \n",
      "_________________________________________________________________\n",
      "dropout (Dropout)            (None, 256)               0         \n",
      "_________________________________________________________________\n",
      "batch_normalization (BatchNo (None, 256)               1024      \n",
      "_________________________________________________________________\n",
      "dense_1 (Dense)              (None, 256)               65792     \n",
      "_________________________________________________________________\n",
      "dropout_1 (Dropout)          (None, 256)               0         \n",
      "_________________________________________________________________\n",
      "batch_normalization_1 (Batch (None, 256)               1024      \n",
      "_________________________________________________________________\n",
      "dense_2 (Dense)              (None, 256)               65792     \n",
      "_________________________________________________________________\n",
      "dropout_2 (Dropout)          (None, 256)               0         \n",
      "_________________________________________________________________\n",
      "batch_normalization_2 (Batch (None, 256)               1024      \n",
      "_________________________________________________________________\n",
      "dense_3 (Dense)              (None, 128)               32896     \n",
      "_________________________________________________________________\n",
      "dropout_3 (Dropout)          (None, 128)               0         \n",
      "_________________________________________________________________\n",
      "batch_normalization_3 (Batch (None, 128)               512       \n",
      "_________________________________________________________________\n",
      "dense_4 (Dense)              (None, 1)                 129       \n",
      "=================================================================\n",
      "Total params: 175,105\n",
      "Trainable params: 173,313\n",
      "Non-trainable params: 1,792\n",
      "_________________________________________________________________\n"
     ]
    }
   ],
   "source": [
    "model = tf.keras.Sequential()\n",
    "model.add(tf.keras.layers.Dense(256,input_dim = x_train.shape[1],activation='relu'))\n",
    "model.add(tf.keras.layers.Dropout(0.2))\n",
    "model.add(tf.keras.layers.BatchNormalization())\n",
    "\n",
    "model.add(tf.keras.layers.Dense(256,activation = 'relu'))\n",
    "model.add(tf.keras.layers.Dropout(0.2))\n",
    "model.add(tf.keras.layers.BatchNormalization())\n",
    "\n",
    "model.add(tf.keras.layers.Dense(256,activation = 'relu'))\n",
    "model.add(tf.keras.layers.Dropout(0.2))\n",
    "model.add(tf.keras.layers.BatchNormalization())\n",
    "\n",
    "model.add(tf.keras.layers.Dense(128,activation = 'relu'))\n",
    "model.add(tf.keras.layers.Dropout(0.2))\n",
    "model.add(tf.keras.layers.BatchNormalization())\n",
    "\n",
    "model.add(tf.keras.layers.Dense(1))\n",
    "\n",
    "model.compile(optimizer='adam',\n",
    "             loss='mean_absolute_error',\n",
    "             metrics=['mean_absolute_error'])\n",
    "\n",
    "model_path = 'C:/project/rossmann-store-sales'\n",
    "checkpoint = tf.keras.callbacks.ModelCheckpoint(filepath=model_path , monitor='val_mean_absolute_error', verbose=1, save_best_only=True)\n",
    "# early_stopping = EarlyStopping(monitor='val_loss', patience=6)\n",
    "\n",
    "model.summary()"
   ]
  },
  {
   "cell_type": "code",
   "execution_count": 31,
   "metadata": {
    "scrolled": false
   },
   "outputs": [
    {
     "name": "stdout",
     "output_type": "stream",
     "text": [
      "Epoch 1/50\n",
      "9512/9512 [==============================] - ETA: 0s - loss: 0.2461 - mean_absolute_error: 0.2461\n",
      "Epoch 00001: val_mean_absolute_error improved from inf to 0.19319, saving model to C:/project\\rossmann-store-sales\n",
      "WARNING:tensorflow:From C:\\Users\\PC\\anaconda3\\lib\\site-packages\\tensorflow\\python\\training\\tracking\\tracking.py:111: Model.state_updates (from tensorflow.python.keras.engine.training) is deprecated and will be removed in a future version.\n",
      "Instructions for updating:\n",
      "This property should not be used in TensorFlow 2.0, as updates are applied automatically.\n",
      "WARNING:tensorflow:From C:\\Users\\PC\\anaconda3\\lib\\site-packages\\tensorflow\\python\\training\\tracking\\tracking.py:111: Layer.updates (from tensorflow.python.keras.engine.base_layer) is deprecated and will be removed in a future version.\n",
      "Instructions for updating:\n",
      "This property should not be used in TensorFlow 2.0, as updates are applied automatically.\n",
      "INFO:tensorflow:Assets written to: C:/project\\rossmann-store-sales\\assets\n",
      "9512/9512 [==============================] - 88s 9ms/step - loss: 0.2461 - mean_absolute_error: 0.2461 - val_loss: 0.1932 - val_mean_absolute_error: 0.1932\n",
      "Epoch 2/50\n",
      "9511/9512 [============================>.] - ETA: 0s - loss: 0.2152 - mean_absolute_error: 0.2152\n",
      "Epoch 00002: val_mean_absolute_error did not improve from 0.19319\n",
      "9512/9512 [==============================] - 95s 10ms/step - loss: 0.2152 - mean_absolute_error: 0.2152 - val_loss: 0.1981 - val_mean_absolute_error: 0.1981\n",
      "Epoch 3/50\n",
      "9510/9512 [============================>.] - ETA: 0s - loss: 0.2092 - mean_absolute_error: 0.2092\n",
      "Epoch 00003: val_mean_absolute_error did not improve from 0.19319\n",
      "9512/9512 [==============================] - 96s 10ms/step - loss: 0.2092 - mean_absolute_error: 0.2092 - val_loss: 0.2036 - val_mean_absolute_error: 0.2036\n",
      "Epoch 4/50\n",
      "9507/9512 [============================>.] - ETA: 0s - loss: 0.2071 - mean_absolute_error: 0.2071\n",
      "Epoch 00004: val_mean_absolute_error did not improve from 0.19319\n",
      "9512/9512 [==============================] - 96s 10ms/step - loss: 0.2071 - mean_absolute_error: 0.2071 - val_loss: 0.2055 - val_mean_absolute_error: 0.2055\n",
      "Epoch 5/50\n",
      "9509/9512 [============================>.] - ETA: 0s - loss: 0.2051 - mean_absolute_error: 0.2051\n",
      "Epoch 00005: val_mean_absolute_error did not improve from 0.19319\n",
      "9512/9512 [==============================] - 97s 10ms/step - loss: 0.2051 - mean_absolute_error: 0.2051 - val_loss: 0.2000 - val_mean_absolute_error: 0.2000\n",
      "Epoch 6/50\n",
      "9512/9512 [==============================] - ETA: 0s - loss: 0.2037 - mean_absolute_error: 0.2037\n",
      "Epoch 00006: val_mean_absolute_error did not improve from 0.19319\n",
      "9512/9512 [==============================] - 94s 10ms/step - loss: 0.2037 - mean_absolute_error: 0.2037 - val_loss: 0.1932 - val_mean_absolute_error: 0.1932\n",
      "Epoch 7/50\n",
      "9510/9512 [============================>.] - ETA: 0s - loss: 0.2025 - mean_absolute_error: 0.2025\n",
      "Epoch 00007: val_mean_absolute_error did not improve from 0.19319\n",
      "9512/9512 [==============================] - 96s 10ms/step - loss: 0.2025 - mean_absolute_error: 0.2025 - val_loss: 0.1997 - val_mean_absolute_error: 0.1997\n",
      "Epoch 8/50\n",
      "9508/9512 [============================>.] - ETA: 0s - loss: 0.2023 - mean_absolute_error: 0.2023- ETA: 1s - loss: 0.2023 - mea\n",
      "Epoch 00008: val_mean_absolute_error did not improve from 0.19319\n",
      "9512/9512 [==============================] - 95s 10ms/step - loss: 0.2023 - mean_absolute_error: 0.2023 - val_loss: 0.1999 - val_mean_absolute_error: 0.1999\n",
      "Epoch 9/50\n",
      "9509/9512 [============================>.] - ETA: 0s - loss: 0.2018 - mean_absolute_error: 0.2018\n",
      "Epoch 00009: val_mean_absolute_error did not improve from 0.19319\n",
      "9512/9512 [==============================] - 95s 10ms/step - loss: 0.2018 - mean_absolute_error: 0.2018 - val_loss: 0.2062 - val_mean_absolute_error: 0.2062\n",
      "Epoch 10/50\n",
      "9508/9512 [============================>.] - ETA: 0s - loss: 0.2018 - mean_absolute_error: 0.2018\n",
      "Epoch 00010: val_mean_absolute_error did not improve from 0.19319\n",
      "9512/9512 [==============================] - 96s 10ms/step - loss: 0.2018 - mean_absolute_error: 0.2018 - val_loss: 0.2056 - val_mean_absolute_error: 0.2056\n",
      "Epoch 11/50\n",
      "9505/9512 [============================>.] - ETA: 0s - loss: 0.2012 - mean_absolute_error: 0.2012\n",
      "Epoch 00011: val_mean_absolute_error did not improve from 0.19319\n",
      "9512/9512 [==============================] - 80s 8ms/step - loss: 0.2012 - mean_absolute_error: 0.2012 - val_loss: 0.2123 - val_mean_absolute_error: 0.2123\n",
      "Epoch 12/50\n",
      "9509/9512 [============================>.] - ETA: 0s - loss: 0.1997 - mean_absolute_error: 0.1997\n",
      "Epoch 00012: val_mean_absolute_error did not improve from 0.19319\n",
      "9512/9512 [==============================] - 88s 9ms/step - loss: 0.1997 - mean_absolute_error: 0.1997 - val_loss: 0.2068 - val_mean_absolute_error: 0.2068\n",
      "Epoch 13/50\n",
      "9509/9512 [============================>.] - ETA: 0s - loss: 0.1996 - mean_absolute_error: 0.1996\n",
      "Epoch 00013: val_mean_absolute_error did not improve from 0.19319\n",
      "9512/9512 [==============================] - 82s 9ms/step - loss: 0.1996 - mean_absolute_error: 0.1996 - val_loss: 0.2175 - val_mean_absolute_error: 0.2175\n",
      "Epoch 14/50\n",
      "9504/9512 [============================>.] - ETA: 0s - loss: 0.1990 - mean_absolute_error: 0.1990\n",
      "Epoch 00014: val_mean_absolute_error did not improve from 0.19319\n",
      "9512/9512 [==============================] - 69s 7ms/step - loss: 0.1991 - mean_absolute_error: 0.1991 - val_loss: 0.2011 - val_mean_absolute_error: 0.2011\n",
      "Epoch 15/50\n",
      "9506/9512 [============================>.] - ETA: 0s - loss: 0.1995 - mean_absolute_error: 0.1995\n",
      "Epoch 00015: val_mean_absolute_error did not improve from 0.19319\n",
      "9512/9512 [==============================] - 72s 8ms/step - loss: 0.1995 - mean_absolute_error: 0.1995 - val_loss: 0.2118 - val_mean_absolute_error: 0.2118\n",
      "Epoch 16/50\n",
      "9506/9512 [============================>.] - ETA: 0s - loss: 0.1987 - mean_absolute_error: 0.1987\n",
      "Epoch 00016: val_mean_absolute_error did not improve from 0.19319\n",
      "9512/9512 [==============================] - 72s 8ms/step - loss: 0.1987 - mean_absolute_error: 0.1987 - val_loss: 0.2087 - val_mean_absolute_error: 0.2087\n",
      "Epoch 17/50\n",
      "9511/9512 [============================>.] - ETA: 0s - loss: 0.1979 - mean_absolute_error: 0.1979\n",
      "Epoch 00017: val_mean_absolute_error did not improve from 0.19319\n",
      "9512/9512 [==============================] - 73s 8ms/step - loss: 0.1979 - mean_absolute_error: 0.1979 - val_loss: 0.2080 - val_mean_absolute_error: 0.2080\n",
      "Epoch 18/50\n",
      "9511/9512 [============================>.] - ETA: 0s - loss: 0.1977 - mean_absolute_error: 0.1977\n",
      "Epoch 00018: val_mean_absolute_error did not improve from 0.19319\n",
      "9512/9512 [==============================] - 92s 10ms/step - loss: 0.1977 - mean_absolute_error: 0.1977 - val_loss: 0.2236 - val_mean_absolute_error: 0.2236\n",
      "Epoch 19/50\n",
      "9512/9512 [==============================] - ETA: 0s - loss: 0.1980 - mean_absolute_error: 0.1980\n",
      "Epoch 00019: val_mean_absolute_error did not improve from 0.19319\n",
      "9512/9512 [==============================] - 94s 10ms/step - loss: 0.1980 - mean_absolute_error: 0.1980 - val_loss: 0.2109 - val_mean_absolute_error: 0.2109\n",
      "Epoch 20/50\n",
      "9506/9512 [============================>.] - ETA: 0s - loss: 0.1979 - mean_absolute_error: 0.1979\n",
      "Epoch 00020: val_mean_absolute_error did not improve from 0.19319\n",
      "9512/9512 [==============================] - 83s 9ms/step - loss: 0.1979 - mean_absolute_error: 0.1979 - val_loss: 0.2126 - val_mean_absolute_error: 0.2126\n",
      "Epoch 21/50\n",
      "9507/9512 [============================>.] - ETA: 0s - loss: 0.1970 - mean_absolute_error: 0.1970\n",
      "Epoch 00021: val_mean_absolute_error did not improve from 0.19319\n",
      "9512/9512 [==============================] - 79s 8ms/step - loss: 0.1970 - mean_absolute_error: 0.1970 - val_loss: 0.2136 - val_mean_absolute_error: 0.2136\n",
      "Epoch 22/50\n",
      "9510/9512 [============================>.] - ETA: 0s - loss: 0.1972 - mean_absolute_error: 0.1972\n",
      "Epoch 00022: val_mean_absolute_error did not improve from 0.19319\n",
      "9512/9512 [==============================] - 87s 9ms/step - loss: 0.1972 - mean_absolute_error: 0.1972 - val_loss: 0.2131 - val_mean_absolute_error: 0.2131\n",
      "Epoch 23/50\n",
      "9510/9512 [============================>.] - ETA: 0s - loss: 0.1967 - mean_absolute_error: 0.1967\n",
      "Epoch 00023: val_mean_absolute_error did not improve from 0.19319\n",
      "9512/9512 [==============================] - 93s 10ms/step - loss: 0.1967 - mean_absolute_error: 0.1967 - val_loss: 0.2169 - val_mean_absolute_error: 0.2169\n",
      "Epoch 24/50\n",
      "9511/9512 [============================>.] - ETA: 0s - loss: 0.1965 - mean_absolute_error: 0.1965\n",
      "Epoch 00024: val_mean_absolute_error did not improve from 0.19319\n",
      "9512/9512 [==============================] - 94s 10ms/step - loss: 0.1965 - mean_absolute_error: 0.1965 - val_loss: 0.2065 - val_mean_absolute_error: 0.2065\n",
      "Epoch 25/50\n",
      "9510/9512 [============================>.] - ETA: 0s - loss: 0.1966 - mean_absolute_error: 0.1966\n",
      "Epoch 00025: val_mean_absolute_error did not improve from 0.19319\n",
      "9512/9512 [==============================] - 96s 10ms/step - loss: 0.1966 - mean_absolute_error: 0.1966 - val_loss: 0.2048 - val_mean_absolute_error: 0.2048\n",
      "Epoch 26/50\n",
      "9508/9512 [============================>.] - ETA: 0s - loss: 0.1965 - mean_absolute_error: 0.1965\n",
      "Epoch 00026: val_mean_absolute_error did not improve from 0.19319\n",
      "9512/9512 [==============================] - 95s 10ms/step - loss: 0.1965 - mean_absolute_error: 0.1965 - val_loss: 0.2211 - val_mean_absolute_error: 0.2211\n",
      "Epoch 27/50\n",
      "9509/9512 [============================>.] - ETA: 0s - loss: 0.1955 - mean_absolute_error: 0.1955\n",
      "Epoch 00027: val_mean_absolute_error did not improve from 0.19319\n",
      "9512/9512 [==============================] - 96s 10ms/step - loss: 0.1955 - mean_absolute_error: 0.1955 - val_loss: 0.2102 - val_mean_absolute_error: 0.2102\n",
      "Epoch 28/50\n",
      "9507/9512 [============================>.] - ETA: 0s - loss: 0.1965 - mean_absolute_error: 0.1965\n",
      "Epoch 00028: val_mean_absolute_error did not improve from 0.19319\n",
      "9512/9512 [==============================] - 96s 10ms/step - loss: 0.1965 - mean_absolute_error: 0.1965 - val_loss: 0.2077 - val_mean_absolute_error: 0.2077\n",
      "Epoch 29/50\n",
      "9511/9512 [============================>.] - ETA: 0s - loss: 0.1951 - mean_absolute_error: 0.1951\n",
      "Epoch 00029: val_mean_absolute_error did not improve from 0.19319\n",
      "9512/9512 [==============================] - 97s 10ms/step - loss: 0.1951 - mean_absolute_error: 0.1951 - val_loss: 0.2109 - val_mean_absolute_error: 0.2109\n",
      "Epoch 30/50\n",
      "9509/9512 [============================>.] - ETA: 0s - loss: 0.1954 - mean_absolute_error: 0.1954\n",
      "Epoch 00030: val_mean_absolute_error did not improve from 0.19319\n",
      "9512/9512 [==============================] - 94s 10ms/step - loss: 0.1954 - mean_absolute_error: 0.1954 - val_loss: 0.2102 - val_mean_absolute_error: 0.2102\n",
      "Epoch 31/50\n",
      "9508/9512 [============================>.] - ETA: 0s - loss: 0.1962 - mean_absolute_error: 0.1962\n",
      "Epoch 00031: val_mean_absolute_error did not improve from 0.19319\n",
      "9512/9512 [==============================] - 94s 10ms/step - loss: 0.1962 - mean_absolute_error: 0.1962 - val_loss: 0.2195 - val_mean_absolute_error: 0.2195\n",
      "Epoch 32/50\n",
      "9508/9512 [============================>.] - ETA: 0s - loss: 0.1956 - mean_absolute_error: 0.1956- ETA: \n",
      "Epoch 00032: val_mean_absolute_error did not improve from 0.19319\n",
      "9512/9512 [==============================] - 96s 10ms/step - loss: 0.1956 - mean_absolute_error: 0.1956 - val_loss: 0.2150 - val_mean_absolute_error: 0.2150\n",
      "Epoch 33/50\n",
      "9511/9512 [============================>.] - ETA: 0s - loss: 0.1951 - mean_absolute_error: 0.1951\n",
      "Epoch 00033: val_mean_absolute_error did not improve from 0.19319\n",
      "9512/9512 [==============================] - 93s 10ms/step - loss: 0.1951 - mean_absolute_error: 0.1951 - val_loss: 0.2230 - val_mean_absolute_error: 0.2230\n",
      "Epoch 34/50\n",
      "9511/9512 [============================>.] - ETA: 0s - loss: 0.1954 - mean_absolute_error: 0.1954\n",
      "Epoch 00034: val_mean_absolute_error did not improve from 0.19319\n",
      "9512/9512 [==============================] - 94s 10ms/step - loss: 0.1954 - mean_absolute_error: 0.1954 - val_loss: 0.2187 - val_mean_absolute_error: 0.2187\n",
      "Epoch 35/50\n",
      "9510/9512 [============================>.] - ETA: 0s - loss: 0.1943 - mean_absolute_error: 0.1943\n",
      "Epoch 00035: val_mean_absolute_error did not improve from 0.19319\n",
      "9512/9512 [==============================] - 100s 10ms/step - loss: 0.1943 - mean_absolute_error: 0.1943 - val_loss: 0.2089 - val_mean_absolute_error: 0.2089\n",
      "Epoch 36/50\n",
      "9512/9512 [==============================] - ETA: 0s - loss: 0.1947 - mean_absolute_error: 0.1947\n",
      "Epoch 00036: val_mean_absolute_error did not improve from 0.19319\n",
      "9512/9512 [==============================] - 98s 10ms/step - loss: 0.1947 - mean_absolute_error: 0.1947 - val_loss: 0.2107 - val_mean_absolute_error: 0.2107\n",
      "Epoch 37/50\n",
      "9509/9512 [============================>.] - ETA: 0s - loss: 0.1945 - mean_absolute_error: 0.1945\n",
      "Epoch 00037: val_mean_absolute_error did not improve from 0.19319\n",
      "9512/9512 [==============================] - 98s 10ms/step - loss: 0.1945 - mean_absolute_error: 0.1945 - val_loss: 0.2095 - val_mean_absolute_error: 0.2095\n",
      "Epoch 38/50\n",
      "9510/9512 [============================>.] - ETA: 0s - loss: 0.1945 - mean_absolute_error: 0.1945\n",
      "Epoch 00038: val_mean_absolute_error did not improve from 0.19319\n",
      "9512/9512 [==============================] - 99s 10ms/step - loss: 0.1945 - mean_absolute_error: 0.1945 - val_loss: 0.2127 - val_mean_absolute_error: 0.2127\n",
      "Epoch 39/50\n",
      "9506/9512 [============================>.] - ETA: 0s - loss: 0.1947 - mean_absolute_error: 0.1947\n",
      "Epoch 00039: val_mean_absolute_error did not improve from 0.19319\n",
      "9512/9512 [==============================] - 97s 10ms/step - loss: 0.1947 - mean_absolute_error: 0.1947 - val_loss: 0.2162 - val_mean_absolute_error: 0.2162\n",
      "Epoch 40/50\n",
      "9507/9512 [============================>.] - ETA: 0s - loss: 0.1946 - mean_absolute_error: 0.1946\n",
      "Epoch 00040: val_mean_absolute_error did not improve from 0.19319\n",
      "9512/9512 [==============================] - 99s 10ms/step - loss: 0.1946 - mean_absolute_error: 0.1946 - val_loss: 0.2112 - val_mean_absolute_error: 0.2112\n",
      "Epoch 41/50\n",
      "9510/9512 [============================>.] - ETA: 0s - loss: 0.1945 - mean_absolute_error: 0.1945\n",
      "Epoch 00041: val_mean_absolute_error did not improve from 0.19319\n",
      "9512/9512 [==============================] - 95s 10ms/step - loss: 0.1945 - mean_absolute_error: 0.1945 - val_loss: 0.2142 - val_mean_absolute_error: 0.2142\n",
      "Epoch 42/50\n",
      "9510/9512 [============================>.] - ETA: 0s - loss: 0.1937 - mean_absolute_error: 0.1937\n",
      "Epoch 00042: val_mean_absolute_error did not improve from 0.19319\n",
      "9512/9512 [==============================] - 97s 10ms/step - loss: 0.1937 - mean_absolute_error: 0.1937 - val_loss: 0.2157 - val_mean_absolute_error: 0.2157\n",
      "Epoch 43/50\n",
      "9512/9512 [==============================] - ETA: 0s - loss: 0.1941 - mean_absolute_error: 0.1941\n",
      "Epoch 00043: val_mean_absolute_error did not improve from 0.19319\n",
      "9512/9512 [==============================] - 98s 10ms/step - loss: 0.1941 - mean_absolute_error: 0.1941 - val_loss: 0.2088 - val_mean_absolute_error: 0.2088\n",
      "Epoch 44/50\n",
      "9508/9512 [============================>.] - ETA: 0s - loss: 0.1933 - mean_absolute_error: 0.1933\n",
      "Epoch 00044: val_mean_absolute_error did not improve from 0.19319\n",
      "9512/9512 [==============================] - 100s 10ms/step - loss: 0.1933 - mean_absolute_error: 0.1933 - val_loss: 0.2252 - val_mean_absolute_error: 0.2252\n",
      "Epoch 45/50\n",
      "9512/9512 [==============================] - ETA: 0s - loss: 0.1941 - mean_absolute_error: 0.1941\n",
      "Epoch 00045: val_mean_absolute_error did not improve from 0.19319\n",
      "9512/9512 [==============================] - 95s 10ms/step - loss: 0.1941 - mean_absolute_error: 0.1941 - val_loss: 0.2146 - val_mean_absolute_error: 0.2146\n",
      "Epoch 46/50\n",
      "9511/9512 [============================>.] - ETA: 0s - loss: 0.1938 - mean_absolute_error: 0.1938\n",
      "Epoch 00046: val_mean_absolute_error did not improve from 0.19319\n",
      "9512/9512 [==============================] - 98s 10ms/step - loss: 0.1938 - mean_absolute_error: 0.1938 - val_loss: 0.2075 - val_mean_absolute_error: 0.2075\n",
      "Epoch 47/50\n",
      "9507/9512 [============================>.] - ETA: 0s - loss: 0.1938 - mean_absolute_error: 0.1938\n",
      "Epoch 00047: val_mean_absolute_error did not improve from 0.19319\n",
      "9512/9512 [==============================] - 98s 10ms/step - loss: 0.1938 - mean_absolute_error: 0.1938 - val_loss: 0.2125 - val_mean_absolute_error: 0.2125\n"
     ]
    },
    {
     "name": "stdout",
     "output_type": "stream",
     "text": [
      "Epoch 48/50\n",
      "9510/9512 [============================>.] - ETA: 0s - loss: 0.1935 - mean_absolute_error: 0.1935\n",
      "Epoch 00048: val_mean_absolute_error did not improve from 0.19319\n",
      "9512/9512 [==============================] - 100s 11ms/step - loss: 0.1935 - mean_absolute_error: 0.1935 - val_loss: 0.2130 - val_mean_absolute_error: 0.2130\n",
      "Epoch 49/50\n",
      "9510/9512 [============================>.] - ETA: 0s - loss: 0.1929 - mean_absolute_error: 0.1929- \n",
      "Epoch 00049: val_mean_absolute_error did not improve from 0.19319\n",
      "9512/9512 [==============================] - 100s 10ms/step - loss: 0.1929 - mean_absolute_error: 0.1929 - val_loss: 0.2303 - val_mean_absolute_error: 0.2303\n",
      "Epoch 50/50\n",
      "9512/9512 [==============================] - ETA: 0s - loss: 0.1932 - mean_absolute_error: 0.1932\n",
      "Epoch 00050: val_mean_absolute_error did not improve from 0.19319\n",
      "9512/9512 [==============================] - 99s 10ms/step - loss: 0.1932 - mean_absolute_error: 0.1932 - val_loss: 0.2107 - val_mean_absolute_error: 0.2107\n",
      "처리시간 :  1:17:10.267681\n"
     ]
    }
   ],
   "source": [
    "start = datetime.datetime.now()\n",
    "\n",
    "results= model.fit(x_train, y_train,\n",
    "                    validation_data=(x_valid, y_valid),\n",
    "                    batch_size=64,\n",
    "                    epochs=50,\n",
    "                   callbacks=[checkpoint])\n",
    "\n",
    "end = datetime.datetime.now()\n",
    "time = end-start\n",
    "print(\"처리시간 : \", time)"
   ]
  },
  {
   "cell_type": "markdown",
   "metadata": {},
   "source": [
    "### 평가 : 테스트 데이터로"
   ]
  },
  {
   "cell_type": "code",
   "execution_count": 36,
   "metadata": {},
   "outputs": [],
   "source": [
    "pred = model.predict(x_valid)"
   ]
  },
  {
   "cell_type": "code",
   "execution_count": 33,
   "metadata": {},
   "outputs": [
    {
     "data": {
      "image/png": "[encoded data removed]",
      "text/plain": [
       "<Figure size 432x288 with 1 Axes>"
      ]
     },
     "metadata": {},
     "output_type": "display_data"
    }
   ],
   "source": [
    "pred_365 = pred[0:365]\n",
    "y_test_365 = y_valid[0:365]\n",
    "\n",
    "fig = plt.figure(facecolor='white')\n",
    "ax = fig.add_subplot(111)\n",
    "ax.plot(y_test_365, label='True')\n",
    "ax.plot(pred_365, label='Prediction')\n",
    "\n",
    "ax.legend()\n",
    "plt.show()"
   ]
  },
  {
   "cell_type": "code",
   "execution_count": 35,
   "metadata": {},
   "outputs": [
    {
     "name": "stdout",
     "output_type": "stream",
     "text": [
      "0.7203388040545894\n"
     ]
    }
   ],
   "source": [
    "from sklearn.metrics import r2_score\n",
    "r2 = r2_score(y_valid, pred)\n",
    "print(r2)"
   ]
  },
  {
   "cell_type": "code",
   "execution_count": null,
   "metadata": {},
   "outputs": [],
   "source": []
  }
 ],
 "metadata": {
  "kernelspec": {
   "display_name": "Python 3",
   "language": "python",
   "name": "python3"
  },
  "language_info": {
   "codemirror_mode": {
    "name": "ipython",
    "version": 3
   },
   "file_extension": ".py",
   "mimetype": "text/x-python",
   "name": "python",
   "nbconvert_exporter": "python",
   "pygments_lexer": "ipython3",
   "version": "3.8.5"
  }
 },
 "nbformat": 4,
 "nbformat_minor": 4
}
