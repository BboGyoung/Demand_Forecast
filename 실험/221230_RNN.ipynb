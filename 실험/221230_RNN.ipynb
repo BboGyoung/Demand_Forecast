{
 "cells": [
  {
   "cell_type": "code",
   "execution_count": 61,
   "metadata": {},
   "outputs": [],
   "source": [
    "import numpy as np \n",
    "import pandas as pd\n",
    "import os\n",
    "import scipy.stats as ss\n",
    "import matplotlib.pyplot as plt\n",
    "import tensorflow as tf\n",
    "import sklearn\n",
    "from sklearn.preprocessing import StandardScaler,MinMaxScaler\n",
    "from sklearn.model_selection import train_test_split\n",
    "from sklearn.tree import DecisionTreeRegressor\n",
    "from sklearn.metrics import mean_squared_error\n",
    "from sklearn.model_selection import GridSearchCV\n",
    "from xgboost import XGBRegressor,plot_importance\n",
    "from scipy.stats import f_oneway\n",
    "from tensorflow.keras.callbacks import EarlyStopping, ModelCheckpoint\n",
    "import datetime\n",
    "from tensorflow.keras.layers import Dense, Dropout, Flatten, Conv1D, LSTM, Bidirectional\n",
    "from tensorflow.keras.layers import Dense, Conv1D, Dropout, MaxPooling1D, Flatten, Embedding, Activation, LeakyReLU"
   ]
  },
  {
   "cell_type": "code",
   "execution_count": 62,
   "metadata": {},
   "outputs": [],
   "source": [
    "import tensorflow as tf\n",
    "gpus = tf.config.experimental.list_physical_devices('GPU')\n",
    "if gpus:\n",
    "  # 텐서플로가 첫 번째 GPU에 1GB 메모리만 할당하도록 제한\n",
    "  try:\n",
    "    tf.config.experimental.set_virtual_device_configuration(\n",
    "        gpus[0],\n",
    "        [tf.config.experimental.VirtualDeviceConfiguration(memory_limit=1024)])\n",
    "  except RuntimeError as e:\n",
    "    # 프로그램 시작시에 가상 장치가 설정되어야만 합니다\n",
    "    print(e)"
   ]
  },
  {
   "cell_type": "code",
   "execution_count": 63,
   "metadata": {},
   "outputs": [
    {
     "name": "stderr",
     "output_type": "stream",
     "text": [
      "C:\\Users\\PC\\anaconda3\\lib\\site-packages\\IPython\\core\\interactiveshell.py:3146: DtypeWarning: Columns (7) have mixed types.Specify dtype option on import or set low_memory=False.\n",
      "  has_raised = await self.run_ast_nodes(code_ast.body, cell_name,\n"
     ]
    }
   ],
   "source": [
    "# 데이터 불러오기\n",
    "past_sales = pd.read_csv('C:/Users/PC/표/수요예측/rossmann-store-sales/train.csv')\n",
    "store = pd.read_csv('C:/Users/PC/표/수요예측/rossmann-store-sales/store.csv')\n",
    "\n",
    "# 데이터 제거\n",
    "store = store.drop(['CompetitionOpenSinceMonth', 'CompetitionOpenSinceYear', 'Promo2SinceWeek', 'Promo2SinceYear', 'PromoInterval'], axis=1)\n",
    "\n",
    "# 데이터 병합\n",
    "data = pd.merge(left = past_sales,right = store, on = 'Store', how = 'right')\n",
    "\n",
    "# 날짜\n",
    "data['Date'] = pd.to_datetime(data['Date'], format=\"%Y-%m-%d\")\n",
    "data['Month']=pd.DatetimeIndex(data.Date).month\n",
    "data['Day']=pd.DatetimeIndex(data.Date).day\n",
    "\n",
    "\n",
    "# StateHoliday\n",
    "data['StateHoliday'] = data['StateHoliday'].replace({0:'d'}) # 0 값은 d로 대체\n",
    "data['StateHoliday'] = data['StateHoliday'].replace({'0':'d'})# 0 값은 d로 대체\n",
    "\n",
    "\n",
    "# 결측값 처리\n",
    "data = data.dropna(axis=0)\n",
    "\n",
    "# store 이름 제거\n",
    "data = data.drop(['Store'],axis=1)\n",
    "\n",
    "# 데이터 분리(수치형, 범주형)\n",
    "digital_cols = ['Customers', 'CompetitionDistance', 'Month', 'Day']\n",
    "digital_data = data[digital_cols]\n",
    "digital_data = pd.DataFrame(digital_data.values, columns = digital_cols)\n",
    "\n",
    "target_col = ['Sales']\n",
    "target_data = data[target_col]\n",
    "target_data = pd.DataFrame(target_data.values, columns = target_col)\n",
    "\n",
    "# 표준화\n",
    "scaler = StandardScaler().fit(digital_data)\n",
    "digital_data = pd.DataFrame(scaler.transform(digital_data),index = digital_data.index, columns = digital_cols)\n",
    "\n",
    "scaler = StandardScaler().fit(target_data)\n",
    "target_data = pd.DataFrame(scaler.transform(target_data),index = target_data.index, columns = target_col)\n",
    "\n",
    "categorey_clos = data.columns.drop(digital_cols)\n",
    "categorey_clos = categorey_clos.drop('Sales')\n",
    "categorey_data = data[categorey_clos]\n",
    "categorey_data = pd.DataFrame(categorey_data.values, columns = categorey_clos)\n",
    "\n",
    "# 인코딩\n",
    "onehotencoding_cols = ['StateHoliday', 'StoreType', 'Assortment', 'DayOfWeek']\n",
    "categorey_data = pd.get_dummies(data = categorey_data, columns = onehotencoding_cols)\n",
    "\n",
    "# 데이터 병합\n",
    "data = pd.concat([target_data, digital_data], axis = 1)\n",
    "data = pd.concat([data, categorey_data], axis = 1)\n",
    "\n",
    "# 형 정리(간단하게 할 필요가 있다! 생각해보기!)\n",
    "data = data.astype({'StateHoliday_a':'int', 'SchoolHoliday':'int','Promo':'int','Open':'int','Promo2':'int', 'StateHoliday_b':'int', 'StateHoliday_c':'int', 'StateHoliday_d':'int', 'StoreType_a':'int', 'StoreType_b':'int', 'StoreType_c':'int', 'StoreType_d':'int'})\n",
    "data = data.astype({'Assortment_a':'int', 'Assortment_b':'int', 'Assortment_c':'int', 'DayOfWeek_1':'int', 'DayOfWeek_2':'int', 'DayOfWeek_3':'int', 'DayOfWeek_4':'int', 'DayOfWeek_5':'int', 'DayOfWeek_6':'int', 'DayOfWeek_7':'int'})\n",
    "\n",
    "# 날짜 기준 정렬\n",
    "data = data.sort_values(by='Date')\n",
    "data = data.drop(['Date'],axis=1)\n",
    "pd.options.display.max_columns = None"
   ]
  },
  {
   "cell_type": "code",
   "execution_count": 64,
   "metadata": {},
   "outputs": [],
   "source": [
    "data = data.astype({'StateHoliday_a':'int', 'SchoolHoliday':'int','Promo':'int','Open':'int','Promo2':'int', 'StateHoliday_b':'int', 'StateHoliday_c':'int', 'StateHoliday_d':'int', 'StoreType_a':'int', 'StoreType_b':'int', 'StoreType_c':'int', 'StoreType_d':'int'})\n",
    "data = data.astype({'Assortment_a':'int', 'Assortment_b':'int', 'Assortment_c':'int', 'DayOfWeek_1':'int', 'DayOfWeek_2':'int', 'DayOfWeek_3':'int', 'DayOfWeek_4':'int', 'DayOfWeek_5':'int', 'DayOfWeek_6':'int', 'DayOfWeek_7':'int'})"
   ]
  },
  {
   "cell_type": "code",
   "execution_count": 65,
   "metadata": {},
   "outputs": [],
   "source": [
    "target_col = 'Sales'\n",
    "features_cols = data.columns.drop(target_col)        \n",
    "features = data[features_cols]\n",
    "target = data[target_col]\n",
    "target = pd.DataFrame(target.values.reshape(-1,1))\n",
    "\n",
    "features_copy = []\n",
    "target_copy = []\n",
    "\n",
    "# 윈도우 사이즈 설정\n",
    "windows_size = 7\n",
    "for i in range(len(features)-windows_size) :\n",
    "    features_copy.append(np.array(features.iloc[i:i+windows_size]))\n",
    "    target_copy.append(np.array(target.iloc[i:i+windows_size]))"
   ]
  },
  {
   "cell_type": "code",
   "execution_count": 66,
   "metadata": {},
   "outputs": [],
   "source": [
    "# 데이터 분할\n",
    "x_train1, x_valid1, y_train1, y_valid1 = train_test_split(features, target, test_size=0.2,random_state=False)\n",
    "x_train, x_valid, y_train, y_valid = train_test_split(features_copy, target_copy, test_size=0.2,random_state=False)"
   ]
  },
  {
   "cell_type": "code",
   "execution_count": 67,
   "metadata": {},
   "outputs": [],
   "source": [
    "# 형 정리\n",
    "x_train = np.array(x_train)\n",
    "x_valid = np.array(x_valid)\n",
    "\n",
    "y_train = np.array(y_train)\n",
    "y_valid = np.array(y_valid)\n"
   ]
  },
  {
   "cell_type": "code",
   "execution_count": 71,
   "metadata": {},
   "outputs": [
    {
     "name": "stdout",
     "output_type": "stream",
     "text": [
      "26\n"
     ]
    }
   ],
   "source": [
    "print(x_train.shape[2])"
   ]
  },
  {
   "cell_type": "code",
   "execution_count": 117,
   "metadata": {},
   "outputs": [
    {
     "name": "stdout",
     "output_type": "stream",
     "text": [
      "Model: \"sequential_42\"\n",
      "_________________________________________________________________\n",
      "Layer (type)                 Output Shape              Param #   \n",
      "=================================================================\n",
      "gru_76 (GRU)                 (None, 7, 15)             1935      \n",
      "_________________________________________________________________\n",
      "dropout_65 (Dropout)         (None, 7, 15)             0         \n",
      "_________________________________________________________________\n",
      "gru_77 (GRU)                 (None, 7, 15)             1440      \n",
      "_________________________________________________________________\n",
      "dense_30 (Dense)             (None, 7, 1)              16        \n",
      "=================================================================\n",
      "Total params: 3,391\n",
      "Trainable params: 3,391\n",
      "Non-trainable params: 0\n",
      "_________________________________________________________________\n"
     ]
    }
   ],
   "source": [
    "# 모델 설계\n",
    "model = tf.keras.Sequential()\n",
    "\n",
    "model.add(tf.keras.layers.GRU(units=15, activation=\"relu\", return_sequences=True, input_shape = [x_train.shape[1], x_train.shape[2]]))\n",
    "model.add(Dropout(0.2))\n",
    "\n",
    "model.add(tf.keras.layers.GRU(units=15, activation=\"relu\", return_sequences=True))\n",
    "\n",
    "model.add(Dense(1))\n",
    "\n",
    "# 모델 요약\n",
    "model.summary()\n"
   ]
  },
  {
   "cell_type": "code",
   "execution_count": 118,
   "metadata": {},
   "outputs": [],
   "source": [
    "# 학습 방벙 설정\n",
    "model.compile(loss='mse',\n",
    "             optimizer='adam',\n",
    "             metrics=['mae'])"
   ]
  },
  {
   "cell_type": "code",
   "execution_count": 119,
   "metadata": {
    "scrolled": false
   },
   "outputs": [
    {
     "name": "stdout",
     "output_type": "stream",
     "text": [
      "Epoch 1/10\n",
      "162330/162330 [==============================] - 2027s 12ms/step - loss: 0.0696 - mae: 0.1820 - val_loss: 0.1014 - val_mae: 0.2569\n",
      "Epoch 2/10\n",
      "162330/162330 [==============================] - 1474s 9ms/step - loss: 0.0636 - mae: 0.1748 - val_loss: 0.1119 - val_mae: 0.2746\n",
      "처리시간 :  0:58:23.396130\n"
     ]
    }
   ],
   "source": [
    "# 학습 + 시간 측정\n",
    "early_stopping = EarlyStopping()\n",
    "\n",
    "start = datetime.datetime.now()\n",
    "\n",
    "history = model.fit(x_train,y_train,\n",
    "                   validation_data = (x_valid,y_valid),\n",
    "                   batch_size = 5,\n",
    "                   epochs = 10, callbacks = [early_stopping])\n",
    "\n",
    "end = datetime.datetime.now()\n",
    "time = end-start\n",
    "print(\"처리시간 : \", time)"
   ]
  },
  {
   "cell_type": "code",
   "execution_count": 126,
   "metadata": {},
   "outputs": [],
   "source": [
    "# 예측값 확인 + 역표준화\n",
    "pred = model.predict(x_valid)\n",
    "pred = scaler.inverse_transform(pred)\n",
    "y_valid_check = scaler.inverse_transform(y_valid1)\n",
    "y_valid_check1 = scaler.inverse_transform(y_valid)"
   ]
  },
  {
   "cell_type": "code",
   "execution_count": 127,
   "metadata": {},
   "outputs": [
    {
     "name": "stdout",
     "output_type": "stream",
     "text": [
      "(202912, 7, 1)\n"
     ]
    }
   ],
   "source": [
    "print(y_valid_check1.shape)"
   ]
  },
  {
   "cell_type": "code",
   "execution_count": null,
   "metadata": {
    "scrolled": false
   },
   "outputs": [],
   "source": [
    "# 손실 그래프!\n",
    "\n",
    "plt.figure(figsize=(16, 10))\n",
    "plt.title('Model Loss Convergence Graph', size='15')\n",
    "y_tloss = history.history['loss']\n",
    "y_vloss = history.history['val_loss']\n",
    "x_len = np.arange(len(y_tloss))\n",
    "plt.xlabel('Epoch')\n",
    "plt.ylabel('Loss')\n",
    "plt.xticks(range(0,50), labels=range(1,51))\n",
    "\n",
    "plt.plot(x_len, y_tloss, \"o-\", c=\"blue\", markersize=3)\n",
    "plt.plot(x_len, y_vloss, \"o-\", c=\"red\", markersize=3)\n",
    "plt.margins(x=0.02)\n",
    "plt.legend(['Training loss', 'Validation loss'])\n",
    "plt.savefig('C:/Users/PC/표/수요예측/Model_Loss_Convergence_Graph.png')\n",
    "plt.show"
   ]
  },
  {
   "cell_type": "code",
   "execution_count": null,
   "metadata": {},
   "outputs": [],
   "source": [
    "pred_365 = pred[0:365]\n",
    "y_valid_365 = y_valid_check[0:365]\n",
    "\n",
    "fig = plt.figure(facecolor='white')\n",
    "ax = fig.add_subplot(111)\n",
    "ax.plot(y_valid_365, label='True')\n",
    "ax.plot(pred_365, label='Prediction')"
   ]
  },
  {
   "cell_type": "code",
   "execution_count": null,
   "metadata": {},
   "outputs": [],
   "source": [
    "y_valid1 = y_valid1.values.tolist()\n",
    "y_valid1 = np.array(y_valid1)\n",
    "fig = plt.figure(facecolor='white', figsize=(20, 10))\n",
    "ax = fig.add_subplot(111)\n",
    "ax.plot(y_valid1, label='True')\n",
    "ax.plot(pred, label='Prediction')\n",
    "ax.legend()\n",
    "plt.show()"
   ]
  },
  {
   "cell_type": "code",
   "execution_count": null,
   "metadata": {},
   "outputs": [],
   "source": []
  }
 ],
 "metadata": {
  "kernelspec": {
   "display_name": "Python 3",
   "language": "python",
   "name": "python3"
  },
  "language_info": {
   "codemirror_mode": {
    "name": "ipython",
    "version": 3
   },
   "file_extension": ".py",
   "mimetype": "text/x-python",
   "name": "python",
   "nbconvert_exporter": "python",
   "pygments_lexer": "ipython3",
   "version": "3.8.5"
  }
 },
 "nbformat": 4,
 "nbformat_minor": 4
}
