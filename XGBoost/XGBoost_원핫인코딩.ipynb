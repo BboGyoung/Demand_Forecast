{
 "cells": [
  {
   "cell_type": "code",
   "execution_count": 1,
   "metadata": {},
   "outputs": [],
   "source": [
    "import numpy as np \n",
    "import pandas as pd\n",
    "import os\n",
    "import scipy.stats as ss\n",
    "import matplotlib.pyplot as plt\n",
    "# import tensorflow as tf\n",
    "import sklearn\n",
    "from sklearn.preprocessing import StandardScaler\n",
    "from sklearn.model_selection import train_test_split\n",
    "from sklearn.tree import DecisionTreeRegressor\n",
    "from sklearn.metrics import mean_squared_error\n",
    "from sklearn.model_selection import GridSearchCV\n",
    "from xgboost import XGBRegressor,plot_importance\n",
    "from scipy.stats import f_oneway\n",
    "import pandas as pd\n",
    "import datetime"
   ]
  },
  {
   "cell_type": "code",
   "execution_count": 1,
   "metadata": {},
   "outputs": [],
   "source": [
    "import tensorflow as tf\n",
    "gpus = tf.config.experimental.list_physical_devices('GPU')\n",
    "if gpus:\n",
    "  # 텐서플로가 첫 번째 GPU에 1GB 메모리만 할당하도록 제한\n",
    "  try:\n",
    "    tf.config.experimental.set_virtual_device_configuration(\n",
    "        gpus[1],\n",
    "        [tf.config.experimental.VirtualDeviceConfiguration(memory_limit=1024)])\n",
    "  except RuntimeError as e:\n",
    "    # 프로그램 시작시에 가상 장치가 설정되어야만 합니다\n",
    "    print(e)"
   ]
  },
  {
   "cell_type": "code",
   "execution_count": 6,
   "metadata": {},
   "outputs": [
    {
     "name": "stderr",
     "output_type": "stream",
     "text": [
      "C:\\Users\\PC\\anaconda3\\lib\\site-packages\\IPython\\core\\interactiveshell.py:3146: DtypeWarning: Columns (7) have mixed types.Specify dtype option on import or set low_memory=False.\n",
      "  has_raised = await self.run_ast_nodes(code_ast.body, cell_name,\n"
     ]
    }
   ],
   "source": [
    "past_sales = pd.read_csv('C:/Users/PC/표/수요예측/rossmann-store-sales/train.csv')\n",
    "store = pd.read_csv('C:/Users/PC/표/수요예측/rossmann-store-sales/store.csv')\n",
    "\n",
    "past_sales['Date'] = pd.to_datetime(past_sales['Date'], format=\"%Y-%m-%d\") # 년도, 달, 일 순으로 format\n",
    "# a = 공휴일, b = 부활절 공휴일, c = 크리스마스, d = 없음\n",
    "past_sales['StateHoliday'] = past_sales['StateHoliday'].replace({0:'d'}) # 0 값은 d로 대체\n",
    "past_sales['StateHoliday'] = past_sales['StateHoliday'].replace({'0':'d'})# 0 값은 d로 대체\n",
    "past_sales = past_sales.sort_values('Date') # date 기준으로 정렬\n",
    "past_sales = pd.get_dummies(data = past_sales,columns=['StateHoliday']) # StateHoliday를 더미 가변수로 대체, 결측값 없다는 거 확인 완료\n",
    "\n",
    "store = store.drop(['CompetitionOpenSinceMonth', 'CompetitionOpenSinceYear', 'Promo2SinceWeek', 'Promo2SinceYear', 'PromoInterval'], axis=1)\n",
    "store = pd.get_dummies(data = store, columns = ['Assortment']) # 규모를 더미 가변수로 대체, storetype = a에는 규모가 b인 상점은 없음\n",
    "\n",
    "# 결측값 확인 : past_sales.isnull().sum(), store_a.isnull().sum()\n",
    "# store의 CompetitionDistance에 3개 있음\n",
    "# 결측값 : 평균으로 대체\n",
    "store['CompetitionDistance'] = store['CompetitionDistance'].fillna(store['CompetitionDistance'].mean())\n",
    "\n",
    "# 병합\n",
    "data = pd.merge(left = past_sales,right = store, on = 'Store', how = 'right')\n",
    "data = pd.get_dummies(data = data, columns = ['DayOfWeek']) # 요일 더미의 가변수로 추가\n",
    "data = pd.get_dummies(data = data, columns = ['StoreType'])\n",
    "data['Month']=pd.DatetimeIndex(data.Date).month\n",
    "data['Day']=pd.DatetimeIndex(data.Date).day\n",
    "data = data.drop(['Date'],axis=1) # 그래프 그릴려고 잠시 제거한 코드\n",
    "data = data.drop(['StateHoliday_a', 'StateHoliday_b', 'StateHoliday_c', 'Assortment_b', 'Assortment_c'], axis=1)\n",
    "data = data.drop(['DayOfWeek_1', 'DayOfWeek_2', 'DayOfWeek_3', 'DayOfWeek_4', 'DayOfWeek_5', 'DayOfWeek_7'], axis=1)\n",
    "data = data.drop(['StoreType_b', 'StoreType_c'], axis=1)\n",
    "\n",
    "pd.options.display.max_columns = None"
   ]
  },
  {
   "cell_type": "code",
   "execution_count": 7,
   "metadata": {},
   "outputs": [
    {
     "data": {
      "text/html": [
       "<div>\n",
       "<style scoped>\n",
       "    .dataframe tbody tr th:only-of-type {\n",
       "        vertical-align: middle;\n",
       "    }\n",
       "\n",
       "    .dataframe tbody tr th {\n",
       "        vertical-align: top;\n",
       "    }\n",
       "\n",
       "    .dataframe thead th {\n",
       "        text-align: right;\n",
       "    }\n",
       "</style>\n",
       "<table border=\"1\" class=\"dataframe\">\n",
       "  <thead>\n",
       "    <tr style=\"text-align: right;\">\n",
       "      <th></th>\n",
       "      <th>Store</th>\n",
       "      <th>Sales</th>\n",
       "      <th>Customers</th>\n",
       "      <th>Open</th>\n",
       "      <th>Promo</th>\n",
       "      <th>SchoolHoliday</th>\n",
       "      <th>StateHoliday_d</th>\n",
       "      <th>CompetitionDistance</th>\n",
       "      <th>Promo2</th>\n",
       "      <th>Assortment_a</th>\n",
       "      <th>DayOfWeek_6</th>\n",
       "      <th>StoreType_a</th>\n",
       "      <th>StoreType_d</th>\n",
       "      <th>Month</th>\n",
       "      <th>Day</th>\n",
       "    </tr>\n",
       "  </thead>\n",
       "  <tbody>\n",
       "    <tr>\n",
       "      <th>0</th>\n",
       "      <td>1</td>\n",
       "      <td>0</td>\n",
       "      <td>0</td>\n",
       "      <td>0</td>\n",
       "      <td>0</td>\n",
       "      <td>1</td>\n",
       "      <td>0</td>\n",
       "      <td>1270.0</td>\n",
       "      <td>0</td>\n",
       "      <td>1</td>\n",
       "      <td>0</td>\n",
       "      <td>0</td>\n",
       "      <td>0</td>\n",
       "      <td>1</td>\n",
       "      <td>1</td>\n",
       "    </tr>\n",
       "    <tr>\n",
       "      <th>1</th>\n",
       "      <td>1</td>\n",
       "      <td>5530</td>\n",
       "      <td>668</td>\n",
       "      <td>1</td>\n",
       "      <td>0</td>\n",
       "      <td>1</td>\n",
       "      <td>1</td>\n",
       "      <td>1270.0</td>\n",
       "      <td>0</td>\n",
       "      <td>1</td>\n",
       "      <td>0</td>\n",
       "      <td>0</td>\n",
       "      <td>0</td>\n",
       "      <td>1</td>\n",
       "      <td>2</td>\n",
       "    </tr>\n",
       "    <tr>\n",
       "      <th>2</th>\n",
       "      <td>1</td>\n",
       "      <td>4327</td>\n",
       "      <td>578</td>\n",
       "      <td>1</td>\n",
       "      <td>0</td>\n",
       "      <td>1</td>\n",
       "      <td>1</td>\n",
       "      <td>1270.0</td>\n",
       "      <td>0</td>\n",
       "      <td>1</td>\n",
       "      <td>0</td>\n",
       "      <td>0</td>\n",
       "      <td>0</td>\n",
       "      <td>1</td>\n",
       "      <td>3</td>\n",
       "    </tr>\n",
       "    <tr>\n",
       "      <th>3</th>\n",
       "      <td>1</td>\n",
       "      <td>4486</td>\n",
       "      <td>619</td>\n",
       "      <td>1</td>\n",
       "      <td>0</td>\n",
       "      <td>1</td>\n",
       "      <td>1</td>\n",
       "      <td>1270.0</td>\n",
       "      <td>0</td>\n",
       "      <td>1</td>\n",
       "      <td>0</td>\n",
       "      <td>0</td>\n",
       "      <td>0</td>\n",
       "      <td>1</td>\n",
       "      <td>4</td>\n",
       "    </tr>\n",
       "    <tr>\n",
       "      <th>4</th>\n",
       "      <td>1</td>\n",
       "      <td>4997</td>\n",
       "      <td>635</td>\n",
       "      <td>1</td>\n",
       "      <td>0</td>\n",
       "      <td>1</td>\n",
       "      <td>1</td>\n",
       "      <td>1270.0</td>\n",
       "      <td>0</td>\n",
       "      <td>1</td>\n",
       "      <td>1</td>\n",
       "      <td>0</td>\n",
       "      <td>0</td>\n",
       "      <td>1</td>\n",
       "      <td>5</td>\n",
       "    </tr>\n",
       "    <tr>\n",
       "      <th>...</th>\n",
       "      <td>...</td>\n",
       "      <td>...</td>\n",
       "      <td>...</td>\n",
       "      <td>...</td>\n",
       "      <td>...</td>\n",
       "      <td>...</td>\n",
       "      <td>...</td>\n",
       "      <td>...</td>\n",
       "      <td>...</td>\n",
       "      <td>...</td>\n",
       "      <td>...</td>\n",
       "      <td>...</td>\n",
       "      <td>...</td>\n",
       "      <td>...</td>\n",
       "      <td>...</td>\n",
       "    </tr>\n",
       "    <tr>\n",
       "      <th>1017204</th>\n",
       "      <td>1115</td>\n",
       "      <td>10712</td>\n",
       "      <td>608</td>\n",
       "      <td>1</td>\n",
       "      <td>1</td>\n",
       "      <td>1</td>\n",
       "      <td>1</td>\n",
       "      <td>5350.0</td>\n",
       "      <td>1</td>\n",
       "      <td>0</td>\n",
       "      <td>0</td>\n",
       "      <td>0</td>\n",
       "      <td>1</td>\n",
       "      <td>7</td>\n",
       "      <td>27</td>\n",
       "    </tr>\n",
       "    <tr>\n",
       "      <th>1017205</th>\n",
       "      <td>1115</td>\n",
       "      <td>8093</td>\n",
       "      <td>500</td>\n",
       "      <td>1</td>\n",
       "      <td>1</td>\n",
       "      <td>1</td>\n",
       "      <td>1</td>\n",
       "      <td>5350.0</td>\n",
       "      <td>1</td>\n",
       "      <td>0</td>\n",
       "      <td>0</td>\n",
       "      <td>0</td>\n",
       "      <td>1</td>\n",
       "      <td>7</td>\n",
       "      <td>28</td>\n",
       "    </tr>\n",
       "    <tr>\n",
       "      <th>1017206</th>\n",
       "      <td>1115</td>\n",
       "      <td>7661</td>\n",
       "      <td>473</td>\n",
       "      <td>1</td>\n",
       "      <td>1</td>\n",
       "      <td>1</td>\n",
       "      <td>1</td>\n",
       "      <td>5350.0</td>\n",
       "      <td>1</td>\n",
       "      <td>0</td>\n",
       "      <td>0</td>\n",
       "      <td>0</td>\n",
       "      <td>1</td>\n",
       "      <td>7</td>\n",
       "      <td>29</td>\n",
       "    </tr>\n",
       "    <tr>\n",
       "      <th>1017207</th>\n",
       "      <td>1115</td>\n",
       "      <td>8405</td>\n",
       "      <td>502</td>\n",
       "      <td>1</td>\n",
       "      <td>1</td>\n",
       "      <td>1</td>\n",
       "      <td>1</td>\n",
       "      <td>5350.0</td>\n",
       "      <td>1</td>\n",
       "      <td>0</td>\n",
       "      <td>0</td>\n",
       "      <td>0</td>\n",
       "      <td>1</td>\n",
       "      <td>7</td>\n",
       "      <td>30</td>\n",
       "    </tr>\n",
       "    <tr>\n",
       "      <th>1017208</th>\n",
       "      <td>1115</td>\n",
       "      <td>8680</td>\n",
       "      <td>538</td>\n",
       "      <td>1</td>\n",
       "      <td>1</td>\n",
       "      <td>1</td>\n",
       "      <td>1</td>\n",
       "      <td>5350.0</td>\n",
       "      <td>1</td>\n",
       "      <td>0</td>\n",
       "      <td>0</td>\n",
       "      <td>0</td>\n",
       "      <td>1</td>\n",
       "      <td>7</td>\n",
       "      <td>31</td>\n",
       "    </tr>\n",
       "  </tbody>\n",
       "</table>\n",
       "<p>1017209 rows × 15 columns</p>\n",
       "</div>"
      ],
      "text/plain": [
       "         Store  Sales  Customers  Open  Promo  SchoolHoliday  StateHoliday_d  \\\n",
       "0            1      0          0     0      0              1               0   \n",
       "1            1   5530        668     1      0              1               1   \n",
       "2            1   4327        578     1      0              1               1   \n",
       "3            1   4486        619     1      0              1               1   \n",
       "4            1   4997        635     1      0              1               1   \n",
       "...        ...    ...        ...   ...    ...            ...             ...   \n",
       "1017204   1115  10712        608     1      1              1               1   \n",
       "1017205   1115   8093        500     1      1              1               1   \n",
       "1017206   1115   7661        473     1      1              1               1   \n",
       "1017207   1115   8405        502     1      1              1               1   \n",
       "1017208   1115   8680        538     1      1              1               1   \n",
       "\n",
       "         CompetitionDistance  Promo2  Assortment_a  DayOfWeek_6  StoreType_a  \\\n",
       "0                     1270.0       0             1            0            0   \n",
       "1                     1270.0       0             1            0            0   \n",
       "2                     1270.0       0             1            0            0   \n",
       "3                     1270.0       0             1            0            0   \n",
       "4                     1270.0       0             1            1            0   \n",
       "...                      ...     ...           ...          ...          ...   \n",
       "1017204               5350.0       1             0            0            0   \n",
       "1017205               5350.0       1             0            0            0   \n",
       "1017206               5350.0       1             0            0            0   \n",
       "1017207               5350.0       1             0            0            0   \n",
       "1017208               5350.0       1             0            0            0   \n",
       "\n",
       "         StoreType_d  Month  Day  \n",
       "0                  0      1    1  \n",
       "1                  0      1    2  \n",
       "2                  0      1    3  \n",
       "3                  0      1    4  \n",
       "4                  0      1    5  \n",
       "...              ...    ...  ...  \n",
       "1017204            1      7   27  \n",
       "1017205            1      7   28  \n",
       "1017206            1      7   29  \n",
       "1017207            1      7   30  \n",
       "1017208            1      7   31  \n",
       "\n",
       "[1017209 rows x 15 columns]"
      ]
     },
     "execution_count": 7,
     "metadata": {},
     "output_type": "execute_result"
    }
   ],
   "source": [
    "data"
   ]
  },
  {
   "cell_type": "code",
   "execution_count": 8,
   "metadata": {},
   "outputs": [],
   "source": [
    "target_col = 'Sales'\n",
    "features_cols = data.columns.drop(target_col)        \n",
    "features = data[features_cols]\n",
    "target = data[target_col]\n",
    "target = pd.DataFrame(target.values.reshape(-1,1))\n",
    "features = features.values\n",
    "target = target.values\n",
    "x_train, x_test, y_train, y_test = train_test_split(features, target, test_size=0.2, random_state=34)\n",
    "x_test,x_valid,y_test,y_valid = train_test_split(x_test, y_test, test_size=0.5)"
   ]
  },
  {
   "cell_type": "code",
   "execution_count": 9,
   "metadata": {},
   "outputs": [],
   "source": [
    "x_train = x_train.astype(np.float32)\n",
    "x_test = x_test.astype(np.float32)\n",
    "x_valid = x_valid.astype(np.float32)\n",
    "y_train = y_train.astype(np.float32)\n",
    "y_test = y_test.astype(np.float32)\n",
    "y_valid = y_valid.astype(np.float32)"
   ]
  },
  {
   "cell_type": "code",
   "execution_count": 10,
   "metadata": {
    "scrolled": true
   },
   "outputs": [
    {
     "name": "stdout",
     "output_type": "stream",
     "text": [
      "train_data의 row : 813767, column : 14\n",
      "test_data의 row : 101721, column : 14\n",
      "val_data의 row : 101721, column : 14\n"
     ]
    }
   ],
   "source": [
    "print('train_data의 row : %s, column : %s'%(x_train.shape[0],x_train.shape[1]))\n",
    "print('test_data의 row : %s, column : %s'%(x_test.shape[0],x_test.shape[1]))\n",
    "print('val_data의 row : %s, column : %s'%(x_valid.shape[0],x_valid.shape[1]))"
   ]
  },
  {
   "cell_type": "code",
   "execution_count": 11,
   "metadata": {},
   "outputs": [
    {
     "name": "stdout",
     "output_type": "stream",
     "text": [
      "처리시간 :  0:01:19.612759\n"
     ]
    }
   ],
   "source": [
    "\n",
    "start = datetime.datetime.now()\n",
    "model = XGBRegressor(tree_method='gpu_hist',gpu_id ='0',predictor ='gpu_predictor',\n",
    "                    n_estimators =400,max_depth = 12, learning_rate = 0.05)\n",
    "\n",
    "model.fit(x_train,y_train)\n",
    "filename = 'xgb_model.model'\n",
    "model.save_model(filename)\n",
    "end = datetime.datetime.now()\n",
    "time = end-start\n",
    "print(\"처리시간 : \", time)"
   ]
  },
  {
   "cell_type": "markdown",
   "metadata": {},
   "source": [
    "# 평가 : 테스트 데이터로"
   ]
  },
  {
   "cell_type": "code",
   "execution_count": 12,
   "metadata": {},
   "outputs": [],
   "source": [
    "pred= model.predict(x_test)"
   ]
  },
  {
   "cell_type": "code",
   "execution_count": 13,
   "metadata": {},
   "outputs": [
    {
     "data": {
      "image/png": "[encoded data removed]",
      "text/plain": [
       "<Figure size 432x288 with 1 Axes>"
      ]
     },
     "metadata": {},
     "output_type": "display_data"
    }
   ],
   "source": [
    "pred_365 = pred[0:365]\n",
    "y_test_365 = y_test[0:365]\n",
    "\n",
    "fig = plt.figure(facecolor='white')\n",
    "ax = fig.add_subplot(111)\n",
    "ax.plot(y_test_365, label='True')\n",
    "ax.plot(pred_365, label='Prediction')\n",
    "\n",
    "ax.legend()\n",
    "plt.show()"
   ]
  },
  {
   "cell_type": "code",
   "execution_count": 14,
   "metadata": {},
   "outputs": [
    {
     "name": "stdout",
     "output_type": "stream",
     "text": [
      "0.988651826312026\n"
     ]
    }
   ],
   "source": [
    "from sklearn.metrics import r2_score\n",
    "r2 = r2_score(y_test, pred)\n",
    "print(r2)"
   ]
  },
  {
   "cell_type": "code",
   "execution_count": 29,
   "metadata": {
    "scrolled": true
   },
   "outputs": [
    {
     "name": "stdout",
     "output_type": "stream",
     "text": [
      "5398.499\n"
     ]
    }
   ],
   "source": [
    "mse = mean_squared_error(pred, y_valid, squared=False)\n",
    "print(mse)"
   ]
  },
  {
   "cell_type": "code",
   "execution_count": 30,
   "metadata": {},
   "outputs": [
    {
     "name": "stdout",
     "output_type": "stream",
     "text": [
      "0.9895247584046986\n"
     ]
    }
   ],
   "source": [
    "pred= model.predict(x_valid)\n",
    "from sklearn.metrics import r2_score\n",
    "r2 = r2_score(y_valid, pred)\n",
    "print(r2)"
   ]
  },
  {
   "cell_type": "code",
   "execution_count": null,
   "metadata": {},
   "outputs": [],
   "source": []
  }
 ],
 "metadata": {
  "kernelspec": {
   "display_name": "Python 3",
   "language": "python",
   "name": "python3"
  },
  "language_info": {
   "codemirror_mode": {
    "name": "ipython",
    "version": 3
   },
   "file_extension": ".py",
   "mimetype": "text/x-python",
   "name": "python",
   "nbconvert_exporter": "python",
   "pygments_lexer": "ipython3",
   "version": "3.8.5"
  }
 },
 "nbformat": 4,
 "nbformat_minor": 4
}
